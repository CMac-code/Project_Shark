{
 "cells": [
  {
   "cell_type": "code",
   "execution_count": 3,
   "metadata": {},
   "outputs": [],
   "source": [
    "# Dependencies\n",
    "import pandas as pd\n",
    "import matplotlib.pyplot as plt\n",
    "import scipy.stats as st\n",
    "import numpy as np\n"
   ]
  },
  {
   "cell_type": "code",
   "execution_count": 7,
   "metadata": {},
   "outputs": [
    {
     "data": {
      "text/html": "<div>\n<style scoped>\n    .dataframe tbody tr th:only-of-type {\n        vertical-align: middle;\n    }\n\n    .dataframe tbody tr th {\n        vertical-align: top;\n    }\n\n    .dataframe thead th {\n        text-align: right;\n    }\n</style>\n<table border=\"1\" class=\"dataframe\">\n  <thead>\n    <tr style=\"text-align: right;\">\n      <th></th>\n      <th>Case Number</th>\n      <th>Date</th>\n      <th>Year</th>\n      <th>Type</th>\n      <th>Country</th>\n      <th>Area</th>\n      <th>Location</th>\n      <th>Activity</th>\n      <th>Name</th>\n      <th>Sex</th>\n      <th>...</th>\n      <th>Fatal (Y/N)</th>\n      <th>Time</th>\n      <th>Species</th>\n      <th>Investigator or Source</th>\n      <th>pdf</th>\n      <th>href formula</th>\n      <th>href</th>\n      <th>Case Number.1</th>\n      <th>Case Number.2</th>\n      <th>original order</th>\n    </tr>\n  </thead>\n  <tbody>\n    <tr>\n      <th>0</th>\n      <td>2016.12.06</td>\n      <td>06-Dec-2016</td>\n      <td>2016.0</td>\n      <td>Provoked</td>\n      <td>AUSTRALIA</td>\n      <td>New South Wales</td>\n      <td>Merimbula</td>\n      <td>Surf fishing</td>\n      <td>Jesse Phillips</td>\n      <td>M</td>\n      <td>...</td>\n      <td>N</td>\n      <td>Night</td>\n      <td>Wobbegong shark, 2m</td>\n      <td>Bay 93.9 Geelong</td>\n      <td>2016.12.06-Phillips.pdf</td>\n      <td>http://sharkattackfile.net/spreadsheets/pdf_di...</td>\n      <td>http://sharkattackfile.net/spreadsheets/pdf_di...</td>\n      <td>2016.12.06</td>\n      <td>2016.12.06</td>\n      <td>6125</td>\n    </tr>\n    <tr>\n      <th>1</th>\n      <td>2020.11.02</td>\n      <td>02-Nov-2020</td>\n      <td>2020.0</td>\n      <td>Unprovoked</td>\n      <td>AUSTRALIA</td>\n      <td>New South Wales</td>\n      <td>Town Beach, Port Macquarie</td>\n      <td>Surfing</td>\n      <td>male</td>\n      <td>M</td>\n      <td>...</td>\n      <td>N</td>\n      <td>Dawn</td>\n      <td>NaN</td>\n      <td>B. Myatt, GSAF</td>\n      <td>2020.11.02-PortMacquarie.pdf</td>\n      <td>http://sharkattackfile.net/spreadsheets/pdf_di...</td>\n      <td>http://sharkattackfile.net/spreadsheets/pdf_di...</td>\n      <td>2020.11.02</td>\n      <td>2020.11.02</td>\n      <td>6593</td>\n    </tr>\n  </tbody>\n</table>\n<p>2 rows × 22 columns</p>\n</div>",
      "text/plain": "  Case Number         Date    Year        Type    Country             Area  \\\n0  2016.12.06  06-Dec-2016  2016.0    Provoked  AUSTRALIA  New South Wales   \n1  2020.11.02  02-Nov-2020  2020.0  Unprovoked  AUSTRALIA  New South Wales   \n\n                     Location      Activity            Name Sex   ...  \\\n0                   Merimbula  Surf fishing  Jesse Phillips    M  ...   \n1  Town Beach, Port Macquarie       Surfing            male    M  ...   \n\n  Fatal (Y/N)   Time             Species  Investigator or Source  \\\n0           N  Night  Wobbegong shark, 2m       Bay 93.9 Geelong   \n1           N   Dawn                  NaN         B. Myatt, GSAF   \n\n                            pdf  \\\n0       2016.12.06-Phillips.pdf   \n1  2020.11.02-PortMacquarie.pdf   \n\n                                        href formula  \\\n0  http://sharkattackfile.net/spreadsheets/pdf_di...   \n1  http://sharkattackfile.net/spreadsheets/pdf_di...   \n\n                                                href Case Number.1  \\\n0  http://sharkattackfile.net/spreadsheets/pdf_di...    2016.12.06   \n1  http://sharkattackfile.net/spreadsheets/pdf_di...    2020.11.02   \n\n  Case Number.2 original order  \n0    2016.12.06           6125  \n1    2020.11.02           6593  \n\n[2 rows x 22 columns]"
     },
     "execution_count": 7,
     "metadata": {},
     "output_type": "execute_result"
    }
   ],
   "source": [
    "\n",
    "Shark2 = pd.read_excel(\"Resource/Shark Data WA 2016-2021 (filtered).xls\")\n",
    "Shark2.head(2)"
   ]
  },
  {
   "cell_type": "code",
   "execution_count": 8,
   "metadata": {},
   "outputs": [
    {
     "data": {
      "text/plain": "Time\nDawn       22\nDay        73\nDusk       38\nNight       4\nUnknown    26\nName: Case Number, dtype: int64"
     },
     "execution_count": 8,
     "metadata": {},
     "output_type": "execute_result"
    }
   ],
   "source": [
    "Time_of_day = Shark2.groupby('Time')['Case Number'].count()\n",
    "Time_of_day"
   ]
  },
  {
   "cell_type": "code",
   "execution_count": 9,
   "metadata": {},
   "outputs": [
    {
     "data": {
      "image/png": "[encoded data removed]",
      "text/plain": "<Figure size 432x288 with 1 Axes>"
     },
     "metadata": {
      "needs_background": "light"
     },
     "output_type": "display_data"
    }
   ],
   "source": [
    "\n",
    "fig, ax = plt.subplots()\n",
    "Time_of_day_chart = Time_of_day.plot(kind = \"bar\", color = \"b\", alpha = 0.5)\n",
    "plt.title(\"Shark Attack by Time of Day\")\n",
    "plt.xlabel(\"Time of Day\")\n",
    "plt.ylabel(\"Count of Shark Attacks\")\n",
    "plt.show()"
   ]
  },
  {
   "cell_type": "code",
   "execution_count": 24,
   "metadata": {},
   "outputs": [
    {
     "data": {
      "text/plain": "Surfing Varieties      70\nSwimming               19\nFishing                17\nSpearfishing           17\nSnorkeling / Diving    16\nMisc                   11\nWading                  6\nName: Activity, dtype: int64"
     },
     "execution_count": 24,
     "metadata": {},
     "output_type": "execute_result"
    }
   ],
   "source": [
    "Shark2['Activity'].value_counts()"
   ]
  },
  {
   "cell_type": "code",
   "execution_count": 25,
   "metadata": {},
   "outputs": [
    {
     "data": {
      "text/plain": "Surfing Varieties      70\nSwimming               19\nFishing                17\nSpearfishing           17\nSnorkeling / Diving    16\nMisc                   11\nWading                  6\nName: Activity, dtype: int64"
     },
     "execution_count": 25,
     "metadata": {},
     "output_type": "execute_result"
    }
   ],
   "source": [
    "Shark2['Activity'].replace([\"Surfing\", \"Body Surfing\", \"Body boarding\", \"Kite surfing\", \"Wind surfing\", \"Windsurfing\", \"Body Boarding\", \"Surf skiing \"], \n",
    "                        \"Surfing Varieties\", inplace=True)\n",
    "Shark2['Activity'].replace([\"Snorkeling\", \"Diving\", \"Free diving\", \"Scuba diving\", \"Scuba Diving\"], \"Snorkeling / Diving\", inplace=True)\n",
    "Shark2['Activity'].replace([\"Fishing\", \"Kayak fishing for sharks\", \"Surf fishing\", \"Kayaking / Fishing\", \"Fishing / Filming sharks feeding on whale carcass\", \"Fishing \"], \"Fishing\", inplace=True)\n",
    "Shark2['Activity'].replace([\"Walking\"], \"Wading\", inplace=True)\n",
    "Shark2['Activity'].replace([\"Feeding sharks\", \"Paddle boarding\", \"Attempting to lasso a shark\", \"Kakaying\", \"Kayaking\", \"Abalone diving\", \n",
    "                    \"Swimming after being swept off rocks\", \"Sightseeing\", \"Foil-boarding\"], \"Misc\", inplace=True)\n",
    "Shark2['Activity'].value_counts()"
   ]
  },
  {
   "cell_type": "code",
   "execution_count": 45,
   "metadata": {},
   "outputs": [
    {
     "data": {
      "text/plain": "Activity\nFishing                17\nMisc                   11\nSnorkeling / Diving    16\nSpearfishing           17\nSurfing Varieties      70\nSwimming               19\nWading                  6\nName: Case Number, dtype: int64"
     },
     "execution_count": 45,
     "metadata": {},
     "output_type": "execute_result"
    }
   ],
   "source": [
    "Activity_Type = Shark2.groupby('Activity')['Case Number'].count()\n",
    "Activity_Type"
   ]
  },
  {
   "cell_type": "code",
   "execution_count": 46,
   "metadata": {},
   "outputs": [
    {
     "data": {
      "image/png": "[encoded data removed]",
      "text/plain": "<Figure size 432x288 with 1 Axes>"
     },
     "metadata": {
      "needs_background": "light"
     },
     "output_type": "display_data"
    }
   ],
   "source": [
    "fig, ax = plt.subplots()\n",
    "Activity_Type = Activity_Type.plot(kind = \"bar\", color = \"b\", alpha = 0.5)\n",
    "plt.title(\"Activities to Avoid\")\n",
    "plt.xlabel(\"Activity\")\n",
    "plt.ylabel(\"Count of Shark Attacks\")\n",
    "plt.show()"
   ]
  }
 ],
 "metadata": {
  "interpreter": {
   "hash": "6b71ca6b95ad0b69e06a4c6e36321db20af4ee56b4afd01d46f3a8600b2487b4"
  },
  "kernelspec": {
   "display_name": "Python 3",
   "language": "python",
   "name": "python3"
  },
  "language_info": {
   "codemirror_mode": {
    "name": "ipython",
    "version": 3
   },
   "file_extension": ".py",
   "mimetype": "text/x-python",
   "name": "python",
   "nbconvert_exporter": "python",
   "pygments_lexer": "ipython3",
   "version": "3.8.5"
  },
  "orig_nbformat": 4
 },
 "nbformat": 4,
 "nbformat_minor": 2
}