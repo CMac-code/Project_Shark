{
 "metadata": {
  "language_info": {
   "codemirror_mode": {
    "name": "ipython",
    "version": 3
   },
   "file_extension": ".py",
   "mimetype": "text/x-python",
   "name": "python",
   "nbconvert_exporter": "python",
   "pygments_lexer": "ipython3",
   "version": "3.6.10"
  },
  "orig_nbformat": 4,
  "kernelspec": {
   "name": "python3",
   "display_name": "Python 3.6.10 64-bit ('PythonData': conda)"
  },
  "interpreter": {
   "hash": "6b71ca6b95ad0b69e06a4c6e36321db20af4ee56b4afd01d46f3a8600b2487b4"
  }
 },
 "nbformat": 4,
 "nbformat_minor": 2,
 "cells": [
  {
   "cell_type": "code",
   "execution_count": 1,
   "metadata": {},
   "outputs": [],
   "source": [
    "import pandas as pd"
   ]
  },
  {
   "cell_type": "code",
   "execution_count": 15,
   "metadata": {},
   "outputs": [
    {
     "output_type": "execute_result",
     "data": {
      "text/plain": [
       "      Case Number                  Date  Year          Type    Country  \\\n",
       "0      2020.01.17           17-Jan-2020  2020    Unprovoked  AUSTRALIA   \n",
       "1      2020.01.07           07-Jan-2020  2020    Unprovoked  AUSTRALIA   \n",
       "2      2020.01.05           05-Jan-2020  2020    Unprovoked  AUSTRALIA   \n",
       "3      2020.01.02           02-Jan-2020  2020  Questionable  AUSTRALIA   \n",
       "4      2019.12.30           30-Dec-2019  2019    Unprovoked  AUSTRALIA   \n",
       "..            ...                   ...   ...           ...        ...   \n",
       "109    2016.02.05           05-Feb-2016  2016    Unprovoked  AUSTRALIA   \n",
       "110    2016.02.04           04-Feb-2016  2016    Unprovoked  AUSTRALIA   \n",
       "111  2016.01.11.R  Reported 11-Jan-2016  2016    Unprovoked  AUSTRALIA   \n",
       "112    2016.01.05           05-Jan-2016  2016    Unprovoked  AUSTRALIA   \n",
       "113    2016.01.02           02-Jan-2016  2016    Unprovoked  AUSTRALIA   \n",
       "\n",
       "                  Area                       Location  \\\n",
       "0      New South Wales                  Windang Beach   \n",
       "1           Queensland              North West Island   \n",
       "2    Western Australia        Cull Island / Esperance   \n",
       "3    Western Australia                      Esperance   \n",
       "4           Queensland              North West Island   \n",
       "..                 ...                            ...   \n",
       "109         Queensland              Stradbroke Island   \n",
       "110    New South Wales                     Hams Beach   \n",
       "111         Queensland  Happy Valley Beach, Caloundra   \n",
       "112         Queensland                   Heron Island   \n",
       "113         Queensland                   Miall Island   \n",
       "\n",
       "                                 Activity              Name  Age  \\\n",
       "0                                 Surfing    Will Schroeter   59   \n",
       "1                                Swimming       Miah Holmes    7   \n",
       "2                            Scuba diving      Gary Johnson   57   \n",
       "3    Swimming after being swept off rocks   Eric Birighitti   21   \n",
       "4                                Swimming              male  30s   \n",
       "..                                    ...               ...  ...   \n",
       "109                               Walking            female   45   \n",
       "110                           Windsurfing     Andrew Morris   40   \n",
       "111                               Surfing      Shane Hilder  NaN   \n",
       "112                                Wading     Nicolas Davis   11   \n",
       "113                          Spearfishing  Allan Countryman   31   \n",
       "\n",
       "                                Injury Fatal (Y/N)            Time  \\\n",
       "0    Laceration ot left ankle and foot           N           08h00   \n",
       "1                   Lacerations to leg           N           17h30   \n",
       "2                                FATAL           Y           13h00   \n",
       "3     Probable drowning and scavenging           Y           16h10   \n",
       "4                 Minor injury to hand           N           12h58   \n",
       "..                                 ...         ...             ...   \n",
       "109                        Foot nipped           N           13h20   \n",
       "110         No injury, shark bit board           N  Late afternoon   \n",
       "111           Laceration to right foot           N             NaN   \n",
       "112           Laceration to right calf           N       Afternoon   \n",
       "113          Lacerations to arms & leg           N           11h30   \n",
       "\n",
       "                                            Species   \\\n",
       "0                                    \"A small shark\"   \n",
       "1                                        Lemon shark   \n",
       "2                                        White shark   \n",
       "3                                                NaN   \n",
       "4    Shovelnose \"shark\" which is a ray, not a shark)   \n",
       "..                                               ...   \n",
       "109                                              NaN   \n",
       "110                                              NaN   \n",
       "111                                  Wobbegong shark   \n",
       "112                                   Blacktip shark   \n",
       "113                                        3 m shark   \n",
       "\n",
       "                                Investigator or Source  \n",
       "0    B. Myatt & M. Michaelson, GSAF; K. McMurray, T...  \n",
       "1    B. Myatt & M. Michaelson, GSAF; K. McMurray, T...  \n",
       "2                                       B. Myatt, GSAF  \n",
       "3    B. Myatt & M. Michaelson, GSAF; K. McMurray, T...  \n",
       "4                                       B. Myatt, GSAF  \n",
       "..                                                 ...  \n",
       "109                             Courier Mail, 2/5/2016  \n",
       "110                                     B. Myatt, GSAF  \n",
       "111                      ABC Sunshine Coast, 1/11/2016  \n",
       "112                                Nine News, 1/5/2016  \n",
       "113                             Courier Mail, 1/2/2016  \n",
       "\n",
       "[114 rows x 15 columns]"
      ],
      "text/html": "<div>\n<style scoped>\n    .dataframe tbody tr th:only-of-type {\n        vertical-align: middle;\n    }\n\n    .dataframe tbody tr th {\n        vertical-align: top;\n    }\n\n    .dataframe thead th {\n        text-align: right;\n    }\n</style>\n<table border=\"1\" class=\"dataframe\">\n  <thead>\n    <tr style=\"text-align: right;\">\n      <th></th>\n      <th>Case Number</th>\n      <th>Date</th>\n      <th>Year</th>\n      <th>Type</th>\n      <th>Country</th>\n      <th>Area</th>\n      <th>Location</th>\n      <th>Activity</th>\n      <th>Name</th>\n      <th>Age</th>\n      <th>Injury</th>\n      <th>Fatal (Y/N)</th>\n      <th>Time</th>\n      <th>Species</th>\n      <th>Investigator or Source</th>\n    </tr>\n  </thead>\n  <tbody>\n    <tr>\n      <th>0</th>\n      <td>2020.01.17</td>\n      <td>17-Jan-2020</td>\n      <td>2020</td>\n      <td>Unprovoked</td>\n      <td>AUSTRALIA</td>\n      <td>New South Wales</td>\n      <td>Windang Beach</td>\n      <td>Surfing</td>\n      <td>Will Schroeter</td>\n      <td>59</td>\n      <td>Laceration ot left ankle and foot</td>\n      <td>N</td>\n      <td>08h00</td>\n      <td>\"A small shark\"</td>\n      <td>B. Myatt &amp; M. Michaelson, GSAF; K. McMurray, T...</td>\n    </tr>\n    <tr>\n      <th>1</th>\n      <td>2020.01.07</td>\n      <td>07-Jan-2020</td>\n      <td>2020</td>\n      <td>Unprovoked</td>\n      <td>AUSTRALIA</td>\n      <td>Queensland</td>\n      <td>North West Island</td>\n      <td>Swimming</td>\n      <td>Miah Holmes</td>\n      <td>7</td>\n      <td>Lacerations to leg</td>\n      <td>N</td>\n      <td>17h30</td>\n      <td>Lemon shark</td>\n      <td>B. Myatt &amp; M. Michaelson, GSAF; K. McMurray, T...</td>\n    </tr>\n    <tr>\n      <th>2</th>\n      <td>2020.01.05</td>\n      <td>05-Jan-2020</td>\n      <td>2020</td>\n      <td>Unprovoked</td>\n      <td>AUSTRALIA</td>\n      <td>Western Australia</td>\n      <td>Cull Island / Esperance</td>\n      <td>Scuba diving</td>\n      <td>Gary Johnson</td>\n      <td>57</td>\n      <td>FATAL</td>\n      <td>Y</td>\n      <td>13h00</td>\n      <td>White shark</td>\n      <td>B. Myatt, GSAF</td>\n    </tr>\n    <tr>\n      <th>3</th>\n      <td>2020.01.02</td>\n      <td>02-Jan-2020</td>\n      <td>2020</td>\n      <td>Questionable</td>\n      <td>AUSTRALIA</td>\n      <td>Western Australia</td>\n      <td>Esperance</td>\n      <td>Swimming after being swept off rocks</td>\n      <td>Eric Birighitti</td>\n      <td>21</td>\n      <td>Probable drowning and scavenging</td>\n      <td>Y</td>\n      <td>16h10</td>\n      <td>NaN</td>\n      <td>B. Myatt &amp; M. Michaelson, GSAF; K. McMurray, T...</td>\n    </tr>\n    <tr>\n      <th>4</th>\n      <td>2019.12.30</td>\n      <td>30-Dec-2019</td>\n      <td>2019</td>\n      <td>Unprovoked</td>\n      <td>AUSTRALIA</td>\n      <td>Queensland</td>\n      <td>North West Island</td>\n      <td>Swimming</td>\n      <td>male</td>\n      <td>30s</td>\n      <td>Minor injury to hand</td>\n      <td>N</td>\n      <td>12h58</td>\n      <td>Shovelnose \"shark\" which is a ray, not a shark)</td>\n      <td>B. Myatt, GSAF</td>\n    </tr>\n    <tr>\n      <th>...</th>\n      <td>...</td>\n      <td>...</td>\n      <td>...</td>\n      <td>...</td>\n      <td>...</td>\n      <td>...</td>\n      <td>...</td>\n      <td>...</td>\n      <td>...</td>\n      <td>...</td>\n      <td>...</td>\n      <td>...</td>\n      <td>...</td>\n      <td>...</td>\n      <td>...</td>\n    </tr>\n    <tr>\n      <th>109</th>\n      <td>2016.02.05</td>\n      <td>05-Feb-2016</td>\n      <td>2016</td>\n      <td>Unprovoked</td>\n      <td>AUSTRALIA</td>\n      <td>Queensland</td>\n      <td>Stradbroke Island</td>\n      <td>Walking</td>\n      <td>female</td>\n      <td>45</td>\n      <td>Foot nipped</td>\n      <td>N</td>\n      <td>13h20</td>\n      <td>NaN</td>\n      <td>Courier Mail, 2/5/2016</td>\n    </tr>\n    <tr>\n      <th>110</th>\n      <td>2016.02.04</td>\n      <td>04-Feb-2016</td>\n      <td>2016</td>\n      <td>Unprovoked</td>\n      <td>AUSTRALIA</td>\n      <td>New South Wales</td>\n      <td>Hams Beach</td>\n      <td>Windsurfing</td>\n      <td>Andrew Morris</td>\n      <td>40</td>\n      <td>No injury, shark bit board</td>\n      <td>N</td>\n      <td>Late afternoon</td>\n      <td>NaN</td>\n      <td>B. Myatt, GSAF</td>\n    </tr>\n    <tr>\n      <th>111</th>\n      <td>2016.01.11.R</td>\n      <td>Reported 11-Jan-2016</td>\n      <td>2016</td>\n      <td>Unprovoked</td>\n      <td>AUSTRALIA</td>\n      <td>Queensland</td>\n      <td>Happy Valley Beach, Caloundra</td>\n      <td>Surfing</td>\n      <td>Shane Hilder</td>\n      <td>NaN</td>\n      <td>Laceration to right foot</td>\n      <td>N</td>\n      <td>NaN</td>\n      <td>Wobbegong shark</td>\n      <td>ABC Sunshine Coast, 1/11/2016</td>\n    </tr>\n    <tr>\n      <th>112</th>\n      <td>2016.01.05</td>\n      <td>05-Jan-2016</td>\n      <td>2016</td>\n      <td>Unprovoked</td>\n      <td>AUSTRALIA</td>\n      <td>Queensland</td>\n      <td>Heron Island</td>\n      <td>Wading</td>\n      <td>Nicolas Davis</td>\n      <td>11</td>\n      <td>Laceration to right calf</td>\n      <td>N</td>\n      <td>Afternoon</td>\n      <td>Blacktip shark</td>\n      <td>Nine News, 1/5/2016</td>\n    </tr>\n    <tr>\n      <th>113</th>\n      <td>2016.01.02</td>\n      <td>02-Jan-2016</td>\n      <td>2016</td>\n      <td>Unprovoked</td>\n      <td>AUSTRALIA</td>\n      <td>Queensland</td>\n      <td>Miall Island</td>\n      <td>Spearfishing</td>\n      <td>Allan Countryman</td>\n      <td>31</td>\n      <td>Lacerations to arms &amp; leg</td>\n      <td>N</td>\n      <td>11h30</td>\n      <td>3 m shark</td>\n      <td>Courier Mail, 1/2/2016</td>\n    </tr>\n  </tbody>\n</table>\n<p>114 rows × 15 columns</p>\n</div>"
     },
     "metadata": {},
     "execution_count": 15
    }
   ],
   "source": [
    "file=\"Resource/Shark Data WA 2016-2020 (filtered).xlsx\"\n",
    "shark_attack_full=pd.DataFrame(pd.read_excel(file))\n",
    "shark_attack_full"
   ]
  },
  {
   "cell_type": "code",
   "execution_count": 13,
   "metadata": {},
   "outputs": [
    {
     "output_type": "error",
     "ename": "KeyError",
     "evalue": "('Case Number', 'Date', 'Year', 'Type', 'Country', 'Area', 'Location', 'Activity', 'Name', 'Unnamed: 9', 'Age', 'Injury', 'Fatal (Y/N)', 'Time', 'Species ')",
     "traceback": [
      "\u001b[1;31m---------------------------------------------------------------------------\u001b[0m",
      "\u001b[1;31mKeyError\u001b[0m                                  Traceback (most recent call last)",
      "\u001b[1;32m~\\anaconda3\\envs\\PythonData\\lib\\site-packages\\pandas\\core\\indexes\\base.py\u001b[0m in \u001b[0;36mget_loc\u001b[1;34m(self, key, method, tolerance)\u001b[0m\n\u001b[0;32m   2645\u001b[0m             \u001b[1;32mtry\u001b[0m\u001b[1;33m:\u001b[0m\u001b[1;33m\u001b[0m\u001b[1;33m\u001b[0m\u001b[0m\n\u001b[1;32m-> 2646\u001b[1;33m                 \u001b[1;32mreturn\u001b[0m \u001b[0mself\u001b[0m\u001b[1;33m.\u001b[0m\u001b[0m_engine\u001b[0m\u001b[1;33m.\u001b[0m\u001b[0mget_loc\u001b[0m\u001b[1;33m(\u001b[0m\u001b[0mkey\u001b[0m\u001b[1;33m)\u001b[0m\u001b[1;33m\u001b[0m\u001b[1;33m\u001b[0m\u001b[0m\n\u001b[0m\u001b[0;32m   2647\u001b[0m             \u001b[1;32mexcept\u001b[0m \u001b[0mKeyError\u001b[0m\u001b[1;33m:\u001b[0m\u001b[1;33m\u001b[0m\u001b[1;33m\u001b[0m\u001b[0m\n",
      "\u001b[1;32mpandas\\_libs\\index.pyx\u001b[0m in \u001b[0;36mpandas._libs.index.IndexEngine.get_loc\u001b[1;34m()\u001b[0m\n",
      "\u001b[1;32mpandas\\_libs\\index.pyx\u001b[0m in \u001b[0;36mpandas._libs.index.IndexEngine.get_loc\u001b[1;34m()\u001b[0m\n",
      "\u001b[1;32mpandas\\_libs\\hashtable_class_helper.pxi\u001b[0m in \u001b[0;36mpandas._libs.hashtable.PyObjectHashTable.get_item\u001b[1;34m()\u001b[0m\n",
      "\u001b[1;32mpandas\\_libs\\hashtable_class_helper.pxi\u001b[0m in \u001b[0;36mpandas._libs.hashtable.PyObjectHashTable.get_item\u001b[1;34m()\u001b[0m\n",
      "\u001b[1;31mKeyError\u001b[0m: ('Case Number', 'Date', 'Year', 'Type', 'Country', 'Area', 'Location', 'Activity', 'Name', 'Unnamed: 9', 'Age', 'Injury', 'Fatal (Y/N)', 'Time', 'Species ')",
      "\nDuring handling of the above exception, another exception occurred:\n",
      "\u001b[1;31mKeyError\u001b[0m                                  Traceback (most recent call last)",
      "\u001b[1;32m<ipython-input-13-516774583b12>\u001b[0m in \u001b[0;36m<module>\u001b[1;34m\u001b[0m\n\u001b[0;32m      1\u001b[0m shark_attack_tes=shark_attack_au['Case Number', 'Date', 'Year', 'Type', 'Country', 'Area', 'Location',\n\u001b[0;32m      2\u001b[0m        \u001b[1;34m'Activity'\u001b[0m\u001b[1;33m,\u001b[0m \u001b[1;34m'Name'\u001b[0m\u001b[1;33m,\u001b[0m \u001b[1;34m'Unnamed: 9'\u001b[0m\u001b[1;33m,\u001b[0m \u001b[1;34m'Age'\u001b[0m\u001b[1;33m,\u001b[0m \u001b[1;34m'Injury'\u001b[0m\u001b[1;33m,\u001b[0m \u001b[1;34m'Fatal (Y/N)'\u001b[0m\u001b[1;33m,\u001b[0m\u001b[1;33m\u001b[0m\u001b[1;33m\u001b[0m\u001b[0m\n\u001b[1;32m----> 3\u001b[1;33m        'Time', 'Species ']\n\u001b[0m\u001b[0;32m      4\u001b[0m \u001b[1;33m\u001b[0m\u001b[0m\n\u001b[0;32m      5\u001b[0m \u001b[0mshark_attack_tes\u001b[0m\u001b[1;33m\u001b[0m\u001b[1;33m\u001b[0m\u001b[0m\n",
      "\u001b[1;32m~\\anaconda3\\envs\\PythonData\\lib\\site-packages\\pandas\\core\\frame.py\u001b[0m in \u001b[0;36m__getitem__\u001b[1;34m(self, key)\u001b[0m\n\u001b[0;32m   2798\u001b[0m             \u001b[1;32mif\u001b[0m \u001b[0mself\u001b[0m\u001b[1;33m.\u001b[0m\u001b[0mcolumns\u001b[0m\u001b[1;33m.\u001b[0m\u001b[0mnlevels\u001b[0m \u001b[1;33m>\u001b[0m \u001b[1;36m1\u001b[0m\u001b[1;33m:\u001b[0m\u001b[1;33m\u001b[0m\u001b[1;33m\u001b[0m\u001b[0m\n\u001b[0;32m   2799\u001b[0m                 \u001b[1;32mreturn\u001b[0m \u001b[0mself\u001b[0m\u001b[1;33m.\u001b[0m\u001b[0m_getitem_multilevel\u001b[0m\u001b[1;33m(\u001b[0m\u001b[0mkey\u001b[0m\u001b[1;33m)\u001b[0m\u001b[1;33m\u001b[0m\u001b[1;33m\u001b[0m\u001b[0m\n\u001b[1;32m-> 2800\u001b[1;33m             \u001b[0mindexer\u001b[0m \u001b[1;33m=\u001b[0m \u001b[0mself\u001b[0m\u001b[1;33m.\u001b[0m\u001b[0mcolumns\u001b[0m\u001b[1;33m.\u001b[0m\u001b[0mget_loc\u001b[0m\u001b[1;33m(\u001b[0m\u001b[0mkey\u001b[0m\u001b[1;33m)\u001b[0m\u001b[1;33m\u001b[0m\u001b[1;33m\u001b[0m\u001b[0m\n\u001b[0m\u001b[0;32m   2801\u001b[0m             \u001b[1;32mif\u001b[0m \u001b[0mis_integer\u001b[0m\u001b[1;33m(\u001b[0m\u001b[0mindexer\u001b[0m\u001b[1;33m)\u001b[0m\u001b[1;33m:\u001b[0m\u001b[1;33m\u001b[0m\u001b[1;33m\u001b[0m\u001b[0m\n\u001b[0;32m   2802\u001b[0m                 \u001b[0mindexer\u001b[0m \u001b[1;33m=\u001b[0m \u001b[1;33m[\u001b[0m\u001b[0mindexer\u001b[0m\u001b[1;33m]\u001b[0m\u001b[1;33m\u001b[0m\u001b[1;33m\u001b[0m\u001b[0m\n",
      "\u001b[1;32m~\\anaconda3\\envs\\PythonData\\lib\\site-packages\\pandas\\core\\indexes\\base.py\u001b[0m in \u001b[0;36mget_loc\u001b[1;34m(self, key, method, tolerance)\u001b[0m\n\u001b[0;32m   2646\u001b[0m                 \u001b[1;32mreturn\u001b[0m \u001b[0mself\u001b[0m\u001b[1;33m.\u001b[0m\u001b[0m_engine\u001b[0m\u001b[1;33m.\u001b[0m\u001b[0mget_loc\u001b[0m\u001b[1;33m(\u001b[0m\u001b[0mkey\u001b[0m\u001b[1;33m)\u001b[0m\u001b[1;33m\u001b[0m\u001b[1;33m\u001b[0m\u001b[0m\n\u001b[0;32m   2647\u001b[0m             \u001b[1;32mexcept\u001b[0m \u001b[0mKeyError\u001b[0m\u001b[1;33m:\u001b[0m\u001b[1;33m\u001b[0m\u001b[1;33m\u001b[0m\u001b[0m\n\u001b[1;32m-> 2648\u001b[1;33m                 \u001b[1;32mreturn\u001b[0m \u001b[0mself\u001b[0m\u001b[1;33m.\u001b[0m\u001b[0m_engine\u001b[0m\u001b[1;33m.\u001b[0m\u001b[0mget_loc\u001b[0m\u001b[1;33m(\u001b[0m\u001b[0mself\u001b[0m\u001b[1;33m.\u001b[0m\u001b[0m_maybe_cast_indexer\u001b[0m\u001b[1;33m(\u001b[0m\u001b[0mkey\u001b[0m\u001b[1;33m)\u001b[0m\u001b[1;33m)\u001b[0m\u001b[1;33m\u001b[0m\u001b[1;33m\u001b[0m\u001b[0m\n\u001b[0m\u001b[0;32m   2649\u001b[0m         \u001b[0mindexer\u001b[0m \u001b[1;33m=\u001b[0m \u001b[0mself\u001b[0m\u001b[1;33m.\u001b[0m\u001b[0mget_indexer\u001b[0m\u001b[1;33m(\u001b[0m\u001b[1;33m[\u001b[0m\u001b[0mkey\u001b[0m\u001b[1;33m]\u001b[0m\u001b[1;33m,\u001b[0m \u001b[0mmethod\u001b[0m\u001b[1;33m=\u001b[0m\u001b[0mmethod\u001b[0m\u001b[1;33m,\u001b[0m \u001b[0mtolerance\u001b[0m\u001b[1;33m=\u001b[0m\u001b[0mtolerance\u001b[0m\u001b[1;33m)\u001b[0m\u001b[1;33m\u001b[0m\u001b[1;33m\u001b[0m\u001b[0m\n\u001b[0;32m   2650\u001b[0m         \u001b[1;32mif\u001b[0m \u001b[0mindexer\u001b[0m\u001b[1;33m.\u001b[0m\u001b[0mndim\u001b[0m \u001b[1;33m>\u001b[0m \u001b[1;36m1\u001b[0m \u001b[1;32mor\u001b[0m \u001b[0mindexer\u001b[0m\u001b[1;33m.\u001b[0m\u001b[0msize\u001b[0m \u001b[1;33m>\u001b[0m \u001b[1;36m1\u001b[0m\u001b[1;33m:\u001b[0m\u001b[1;33m\u001b[0m\u001b[1;33m\u001b[0m\u001b[0m\n",
      "\u001b[1;32mpandas\\_libs\\index.pyx\u001b[0m in \u001b[0;36mpandas._libs.index.IndexEngine.get_loc\u001b[1;34m()\u001b[0m\n",
      "\u001b[1;32mpandas\\_libs\\index.pyx\u001b[0m in \u001b[0;36mpandas._libs.index.IndexEngine.get_loc\u001b[1;34m()\u001b[0m\n",
      "\u001b[1;32mpandas\\_libs\\hashtable_class_helper.pxi\u001b[0m in \u001b[0;36mpandas._libs.hashtable.PyObjectHashTable.get_item\u001b[1;34m()\u001b[0m\n",
      "\u001b[1;32mpandas\\_libs\\hashtable_class_helper.pxi\u001b[0m in \u001b[0;36mpandas._libs.hashtable.PyObjectHashTable.get_item\u001b[1;34m()\u001b[0m\n",
      "\u001b[1;31mKeyError\u001b[0m: ('Case Number', 'Date', 'Year', 'Type', 'Country', 'Area', 'Location', 'Activity', 'Name', 'Unnamed: 9', 'Age', 'Injury', 'Fatal (Y/N)', 'Time', 'Species ')"
     ]
    }
   ],
   "source": [
    "# shark_attack_tes=shark_attack_au['Case Number', 'Date', 'Year', 'Type', 'Country', 'Area', 'Location',\n",
    "#        'Activity', 'Name', 'Unnamed: 9', 'Age', 'Injury', 'Fatal (Y/N)',\n",
    "#        'Time', 'Species ']\n",
    "\n",
    "# shark_attack_tes"
   ]
  },
  {
   "cell_type": "code",
   "execution_count": null,
   "metadata": {},
   "outputs": [],
   "source": []
  }
 ]
}