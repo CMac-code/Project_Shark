{
 "cells": [
  {
   "cell_type": "code",
   "execution_count": 62,
   "source": [
    "import pandas as pd\r\n",
    "import matplotlib.pyplot as plt\r\n",
    "import numpy as np\r\n",
    "import matplotlib.patches as mpatches"
   ],
   "outputs": [],
   "metadata": {}
  },
  {
   "cell_type": "code",
   "execution_count": 63,
   "source": [
    "pedest_df = pd.read_csv(\"pedestrian_data.csv\")\r\n",
    "shark_df = pd.read_csv(\"attack_year_area.csv\")"
   ],
   "outputs": [],
   "metadata": {}
  },
  {
   "cell_type": "code",
   "execution_count": 9,
   "source": [
    "pedest_df.head()"
   ],
   "outputs": [
    {
     "output_type": "execute_result",
     "data": {
      "text/plain": [
       "     ACC_ID   LONGITUDE   LATITUDE  CRASH_DATE  CRASH_TIME ACCIDENT_TYPE  \\\n",
       "0  10232359  121.460072 -30.758825        2020      1615.0  Intersection   \n",
       "1  10232904  115.714737 -33.321952        2020      1835.0  Intersection   \n",
       "2  10233140  115.772579 -31.734973        2020       100.0      Midblock   \n",
       "3  10226903  115.961555 -31.861525        2020       856.0      Midblock   \n",
       "4  10227223  116.007399 -32.075582        2020       630.0      Midblock   \n",
       "\n",
       "    SEVERITY    EVENT_NATURE            EVENT_TYPE  TOTAL_BIKE_INVOLVED  \\\n",
       "0  PDO Major        Rear End                   NaN                    0   \n",
       "1  PDO Major  Hit Pedestrian  Involving Pedestrian                    0   \n",
       "2      Fatal  Hit Pedestrian  Involving Pedestrian                    0   \n",
       "3      Fatal  Hit Pedestrian  Involving Pedestrian                    0   \n",
       "4  PDO Minor  Hit Pedestrian  Involving Pedestrian                    0   \n",
       "\n",
       "   TOTAL_TRUCK_INVOLVED  TOTAL_HEAVY_TRUCK_INVOLVED  \\\n",
       "0                     0                           0   \n",
       "1                     0                           0   \n",
       "2                     0                           0   \n",
       "3                     0                           0   \n",
       "4                     0                           0   \n",
       "\n",
       "   TOTAL_MOTOR_CYCLE_INVOLVED  TOTAL_OTHER_VEHICLES_INVOLVED  \\\n",
       "0                           0                              2   \n",
       "1                           0                              1   \n",
       "2                           0                              1   \n",
       "3                           0                              1   \n",
       "4                           0                              1   \n",
       "\n",
       "   TOTAL_PEDESTRIANS_INVOLVED    REGION  \n",
       "0                           1  Northern  \n",
       "1                           1  Southern  \n",
       "2                           1     Metro  \n",
       "3                           1     Metro  \n",
       "4                           1     Metro  "
      ],
      "text/html": [
       "<div>\n",
       "<style scoped>\n",
       "    .dataframe tbody tr th:only-of-type {\n",
       "        vertical-align: middle;\n",
       "    }\n",
       "\n",
       "    .dataframe tbody tr th {\n",
       "        vertical-align: top;\n",
       "    }\n",
       "\n",
       "    .dataframe thead th {\n",
       "        text-align: right;\n",
       "    }\n",
       "</style>\n",
       "<table border=\"1\" class=\"dataframe\">\n",
       "  <thead>\n",
       "    <tr style=\"text-align: right;\">\n",
       "      <th></th>\n",
       "      <th>ACC_ID</th>\n",
       "      <th>LONGITUDE</th>\n",
       "      <th>LATITUDE</th>\n",
       "      <th>CRASH_DATE</th>\n",
       "      <th>CRASH_TIME</th>\n",
       "      <th>ACCIDENT_TYPE</th>\n",
       "      <th>SEVERITY</th>\n",
       "      <th>EVENT_NATURE</th>\n",
       "      <th>EVENT_TYPE</th>\n",
       "      <th>TOTAL_BIKE_INVOLVED</th>\n",
       "      <th>TOTAL_TRUCK_INVOLVED</th>\n",
       "      <th>TOTAL_HEAVY_TRUCK_INVOLVED</th>\n",
       "      <th>TOTAL_MOTOR_CYCLE_INVOLVED</th>\n",
       "      <th>TOTAL_OTHER_VEHICLES_INVOLVED</th>\n",
       "      <th>TOTAL_PEDESTRIANS_INVOLVED</th>\n",
       "      <th>REGION</th>\n",
       "    </tr>\n",
       "  </thead>\n",
       "  <tbody>\n",
       "    <tr>\n",
       "      <th>0</th>\n",
       "      <td>10232359</td>\n",
       "      <td>121.460072</td>\n",
       "      <td>-30.758825</td>\n",
       "      <td>2020</td>\n",
       "      <td>1615.0</td>\n",
       "      <td>Intersection</td>\n",
       "      <td>PDO Major</td>\n",
       "      <td>Rear End</td>\n",
       "      <td>NaN</td>\n",
       "      <td>0</td>\n",
       "      <td>0</td>\n",
       "      <td>0</td>\n",
       "      <td>0</td>\n",
       "      <td>2</td>\n",
       "      <td>1</td>\n",
       "      <td>Northern</td>\n",
       "    </tr>\n",
       "    <tr>\n",
       "      <th>1</th>\n",
       "      <td>10232904</td>\n",
       "      <td>115.714737</td>\n",
       "      <td>-33.321952</td>\n",
       "      <td>2020</td>\n",
       "      <td>1835.0</td>\n",
       "      <td>Intersection</td>\n",
       "      <td>PDO Major</td>\n",
       "      <td>Hit Pedestrian</td>\n",
       "      <td>Involving Pedestrian</td>\n",
       "      <td>0</td>\n",
       "      <td>0</td>\n",
       "      <td>0</td>\n",
       "      <td>0</td>\n",
       "      <td>1</td>\n",
       "      <td>1</td>\n",
       "      <td>Southern</td>\n",
       "    </tr>\n",
       "    <tr>\n",
       "      <th>2</th>\n",
       "      <td>10233140</td>\n",
       "      <td>115.772579</td>\n",
       "      <td>-31.734973</td>\n",
       "      <td>2020</td>\n",
       "      <td>100.0</td>\n",
       "      <td>Midblock</td>\n",
       "      <td>Fatal</td>\n",
       "      <td>Hit Pedestrian</td>\n",
       "      <td>Involving Pedestrian</td>\n",
       "      <td>0</td>\n",
       "      <td>0</td>\n",
       "      <td>0</td>\n",
       "      <td>0</td>\n",
       "      <td>1</td>\n",
       "      <td>1</td>\n",
       "      <td>Metro</td>\n",
       "    </tr>\n",
       "    <tr>\n",
       "      <th>3</th>\n",
       "      <td>10226903</td>\n",
       "      <td>115.961555</td>\n",
       "      <td>-31.861525</td>\n",
       "      <td>2020</td>\n",
       "      <td>856.0</td>\n",
       "      <td>Midblock</td>\n",
       "      <td>Fatal</td>\n",
       "      <td>Hit Pedestrian</td>\n",
       "      <td>Involving Pedestrian</td>\n",
       "      <td>0</td>\n",
       "      <td>0</td>\n",
       "      <td>0</td>\n",
       "      <td>0</td>\n",
       "      <td>1</td>\n",
       "      <td>1</td>\n",
       "      <td>Metro</td>\n",
       "    </tr>\n",
       "    <tr>\n",
       "      <th>4</th>\n",
       "      <td>10227223</td>\n",
       "      <td>116.007399</td>\n",
       "      <td>-32.075582</td>\n",
       "      <td>2020</td>\n",
       "      <td>630.0</td>\n",
       "      <td>Midblock</td>\n",
       "      <td>PDO Minor</td>\n",
       "      <td>Hit Pedestrian</td>\n",
       "      <td>Involving Pedestrian</td>\n",
       "      <td>0</td>\n",
       "      <td>0</td>\n",
       "      <td>0</td>\n",
       "      <td>0</td>\n",
       "      <td>1</td>\n",
       "      <td>1</td>\n",
       "      <td>Metro</td>\n",
       "    </tr>\n",
       "  </tbody>\n",
       "</table>\n",
       "</div>"
      ]
     },
     "metadata": {},
     "execution_count": 9
    }
   ],
   "metadata": {}
  },
  {
   "cell_type": "code",
   "execution_count": 5,
   "source": [
    "shark_df"
   ],
   "outputs": [
    {
     "output_type": "execute_result",
     "data": {
      "text/plain": [
       "     Year  Metro  Northern  Southern\n",
       "0  2016.0    3.0       2.0       3.0\n",
       "1  2017.0    2.0       2.0       4.0\n",
       "2  2018.0    5.0       2.0       6.0\n",
       "3  2019.0    2.0       1.0       0.0\n",
       "4  2020.0    1.0       3.0       4.0"
      ],
      "text/html": [
       "<div>\n",
       "<style scoped>\n",
       "    .dataframe tbody tr th:only-of-type {\n",
       "        vertical-align: middle;\n",
       "    }\n",
       "\n",
       "    .dataframe tbody tr th {\n",
       "        vertical-align: top;\n",
       "    }\n",
       "\n",
       "    .dataframe thead th {\n",
       "        text-align: right;\n",
       "    }\n",
       "</style>\n",
       "<table border=\"1\" class=\"dataframe\">\n",
       "  <thead>\n",
       "    <tr style=\"text-align: right;\">\n",
       "      <th></th>\n",
       "      <th>Year</th>\n",
       "      <th>Metro</th>\n",
       "      <th>Northern</th>\n",
       "      <th>Southern</th>\n",
       "    </tr>\n",
       "  </thead>\n",
       "  <tbody>\n",
       "    <tr>\n",
       "      <th>0</th>\n",
       "      <td>2016.0</td>\n",
       "      <td>3.0</td>\n",
       "      <td>2.0</td>\n",
       "      <td>3.0</td>\n",
       "    </tr>\n",
       "    <tr>\n",
       "      <th>1</th>\n",
       "      <td>2017.0</td>\n",
       "      <td>2.0</td>\n",
       "      <td>2.0</td>\n",
       "      <td>4.0</td>\n",
       "    </tr>\n",
       "    <tr>\n",
       "      <th>2</th>\n",
       "      <td>2018.0</td>\n",
       "      <td>5.0</td>\n",
       "      <td>2.0</td>\n",
       "      <td>6.0</td>\n",
       "    </tr>\n",
       "    <tr>\n",
       "      <th>3</th>\n",
       "      <td>2019.0</td>\n",
       "      <td>2.0</td>\n",
       "      <td>1.0</td>\n",
       "      <td>0.0</td>\n",
       "    </tr>\n",
       "    <tr>\n",
       "      <th>4</th>\n",
       "      <td>2020.0</td>\n",
       "      <td>1.0</td>\n",
       "      <td>3.0</td>\n",
       "      <td>4.0</td>\n",
       "    </tr>\n",
       "  </tbody>\n",
       "</table>\n",
       "</div>"
      ]
     },
     "metadata": {},
     "execution_count": 5
    }
   ],
   "metadata": {}
  },
  {
   "cell_type": "code",
   "execution_count": 70,
   "source": [
    "# add totals column\r\n",
    "shark_df[\"Total\"] = \"\"\r\n",
    "shark_df[\"Total\"] = shark_df[\"Metro\"] + shark_df[\"Northern\"] + shark_df[\"Southern\"]\r\n",
    "shark_df"
   ],
   "outputs": [
    {
     "output_type": "execute_result",
     "data": {
      "text/plain": [
       "     Year  Metro  Northern  Southern  Total\n",
       "0  2016.0    3.0       2.0       3.0    8.0\n",
       "1  2017.0    2.0       2.0       4.0    8.0\n",
       "2  2018.0    5.0       2.0       6.0   13.0\n",
       "3  2019.0    2.0       1.0       0.0    3.0\n",
       "4  2020.0    1.0       3.0       4.0    8.0"
      ],
      "text/html": [
       "<div>\n",
       "<style scoped>\n",
       "    .dataframe tbody tr th:only-of-type {\n",
       "        vertical-align: middle;\n",
       "    }\n",
       "\n",
       "    .dataframe tbody tr th {\n",
       "        vertical-align: top;\n",
       "    }\n",
       "\n",
       "    .dataframe thead th {\n",
       "        text-align: right;\n",
       "    }\n",
       "</style>\n",
       "<table border=\"1\" class=\"dataframe\">\n",
       "  <thead>\n",
       "    <tr style=\"text-align: right;\">\n",
       "      <th></th>\n",
       "      <th>Year</th>\n",
       "      <th>Metro</th>\n",
       "      <th>Northern</th>\n",
       "      <th>Southern</th>\n",
       "      <th>Total</th>\n",
       "    </tr>\n",
       "  </thead>\n",
       "  <tbody>\n",
       "    <tr>\n",
       "      <th>0</th>\n",
       "      <td>2016.0</td>\n",
       "      <td>3.0</td>\n",
       "      <td>2.0</td>\n",
       "      <td>3.0</td>\n",
       "      <td>8.0</td>\n",
       "    </tr>\n",
       "    <tr>\n",
       "      <th>1</th>\n",
       "      <td>2017.0</td>\n",
       "      <td>2.0</td>\n",
       "      <td>2.0</td>\n",
       "      <td>4.0</td>\n",
       "      <td>8.0</td>\n",
       "    </tr>\n",
       "    <tr>\n",
       "      <th>2</th>\n",
       "      <td>2018.0</td>\n",
       "      <td>5.0</td>\n",
       "      <td>2.0</td>\n",
       "      <td>6.0</td>\n",
       "      <td>13.0</td>\n",
       "    </tr>\n",
       "    <tr>\n",
       "      <th>3</th>\n",
       "      <td>2019.0</td>\n",
       "      <td>2.0</td>\n",
       "      <td>1.0</td>\n",
       "      <td>0.0</td>\n",
       "      <td>3.0</td>\n",
       "    </tr>\n",
       "    <tr>\n",
       "      <th>4</th>\n",
       "      <td>2020.0</td>\n",
       "      <td>1.0</td>\n",
       "      <td>3.0</td>\n",
       "      <td>4.0</td>\n",
       "      <td>8.0</td>\n",
       "    </tr>\n",
       "  </tbody>\n",
       "</table>\n",
       "</div>"
      ]
     },
     "metadata": {},
     "execution_count": 70
    }
   ],
   "metadata": {}
  },
  {
   "cell_type": "code",
   "execution_count": 41,
   "source": [
    "region = pedest_df.groupby(['CRASH_DATE','REGION'])['TOTAL_PEDESTRIANS_INVOLVED'].count()\r\n",
    "region"
   ],
   "outputs": [
    {
     "output_type": "execute_result",
     "data": {
      "text/plain": [
       "CRASH_DATE  REGION  \n",
       "2016        Metro       382\n",
       "            Northern     37\n",
       "            Southern     33\n",
       "2017        Metro       427\n",
       "            Northern     51\n",
       "            Southern     28\n",
       "2018        Metro       396\n",
       "            Northern     34\n",
       "            Southern     28\n",
       "2019        Metro       387\n",
       "            Northern     39\n",
       "            Southern     26\n",
       "2020        Metro       325\n",
       "            Northern     34\n",
       "            Southern     32\n",
       "Name: TOTAL_PEDESTRIANS_INVOLVED, dtype: int64"
      ]
     },
     "metadata": {},
     "execution_count": 41
    }
   ],
   "metadata": {}
  },
  {
   "cell_type": "code",
   "execution_count": 12,
   "source": [
    "# check bar chart\r\n",
    "region.unstack().plot(kind='bar')"
   ],
   "outputs": [
    {
     "output_type": "execute_result",
     "data": {
      "text/plain": [
       "<matplotlib.axes._subplots.AxesSubplot at 0x1e623903e10>"
      ]
     },
     "metadata": {},
     "execution_count": 12
    },
    {
     "output_type": "display_data",
     "data": {
      "text/plain": [
       "<Figure size 432x288 with 1 Axes>"
      ],
      "image/png": "[encoded data removed]"
     },
     "metadata": {
      "needs_background": "light"
     }
    }
   ],
   "metadata": {}
  },
  {
   "cell_type": "code",
   "execution_count": 17,
   "source": [
    "# create df and save\r\n",
    "region_year_area = region.unstack()\r\n",
    "region_year_area =region_year_area.fillna(0)\r\n",
    "region_year_area\r\n",
    "region_year_area.to_csv(\"accident_year_area.csv\")"
   ],
   "outputs": [],
   "metadata": {}
  },
  {
   "cell_type": "code",
   "execution_count": 33,
   "source": [
    "# accident_df = pd.read_csv(\"accident_year_area.csv\")\r\n",
    "# # accident_df\r\n",
    "\r\n",
    "# # add totals\r\n",
    "# accident_df[\"Total\"] = \"\"\r\n",
    "# accident_df[\"Total\"] = accident_df[\"Metro\"] + accident_df[\"Northern\"] + accident_df[\"Southern\"]\r\n",
    "# accident_df"
   ],
   "outputs": [
    {
     "output_type": "execute_result",
     "data": {
      "text/plain": [
       "   CRASH_DATE  Metro  Northern  Southern  Total\n",
       "0        2016    382        37        33    452\n",
       "1        2017    427        51        28    506\n",
       "2        2018    396        34        28    458\n",
       "3        2019    387        39        26    452\n",
       "4        2020    325        34        32    391"
      ],
      "text/html": [
       "<div>\n",
       "<style scoped>\n",
       "    .dataframe tbody tr th:only-of-type {\n",
       "        vertical-align: middle;\n",
       "    }\n",
       "\n",
       "    .dataframe tbody tr th {\n",
       "        vertical-align: top;\n",
       "    }\n",
       "\n",
       "    .dataframe thead th {\n",
       "        text-align: right;\n",
       "    }\n",
       "</style>\n",
       "<table border=\"1\" class=\"dataframe\">\n",
       "  <thead>\n",
       "    <tr style=\"text-align: right;\">\n",
       "      <th></th>\n",
       "      <th>CRASH_DATE</th>\n",
       "      <th>Metro</th>\n",
       "      <th>Northern</th>\n",
       "      <th>Southern</th>\n",
       "      <th>Total</th>\n",
       "    </tr>\n",
       "  </thead>\n",
       "  <tbody>\n",
       "    <tr>\n",
       "      <th>0</th>\n",
       "      <td>2016</td>\n",
       "      <td>382</td>\n",
       "      <td>37</td>\n",
       "      <td>33</td>\n",
       "      <td>452</td>\n",
       "    </tr>\n",
       "    <tr>\n",
       "      <th>1</th>\n",
       "      <td>2017</td>\n",
       "      <td>427</td>\n",
       "      <td>51</td>\n",
       "      <td>28</td>\n",
       "      <td>506</td>\n",
       "    </tr>\n",
       "    <tr>\n",
       "      <th>2</th>\n",
       "      <td>2018</td>\n",
       "      <td>396</td>\n",
       "      <td>34</td>\n",
       "      <td>28</td>\n",
       "      <td>458</td>\n",
       "    </tr>\n",
       "    <tr>\n",
       "      <th>3</th>\n",
       "      <td>2019</td>\n",
       "      <td>387</td>\n",
       "      <td>39</td>\n",
       "      <td>26</td>\n",
       "      <td>452</td>\n",
       "    </tr>\n",
       "    <tr>\n",
       "      <th>4</th>\n",
       "      <td>2020</td>\n",
       "      <td>325</td>\n",
       "      <td>34</td>\n",
       "      <td>32</td>\n",
       "      <td>391</td>\n",
       "    </tr>\n",
       "  </tbody>\n",
       "</table>\n",
       "</div>"
      ]
     },
     "metadata": {},
     "execution_count": 33
    }
   ],
   "metadata": {}
  },
  {
   "cell_type": "code",
   "execution_count": 93,
   "source": [
    "plt.bar(accident_df[\"CRASH_DATE\"], accident_df[\"Total\"], label=\"Accidents\", color=\"lightsteelblue\")\r\n",
    "plt.bar(shark_df[\"Year\"], shark_df[\"Total\"], label=\"Shark Attacks\", color=\"slategray\")\r\n",
    "plt.title(\"Pedestrian Accidents v Shark Attacks\")\r\n",
    "plt.savefig(\"Ped v shark attacks per year.png\")\r\n",
    "plt.show()"
   ],
   "outputs": [
    {
     "output_type": "display_data",
     "data": {
      "text/plain": [
       "<Figure size 432x288 with 1 Axes>"
      ],
      "image/png": "[encoded data removed]"
     },
     "metadata": {
      "needs_background": "light"
     }
    }
   ],
   "metadata": {}
  },
  {
   "cell_type": "code",
   "execution_count": 88,
   "source": [
    "# estimated WA pedestrian and ocean usage\r\n",
    "wa_pedestrian_year = 886000000\r\n",
    "wa_ocean_year = 2180000\r\n",
    "accidents_year = accident_df[\"Total\"].sum()/5\r\n",
    "shark_attacks_year = shark_df[\"Total\"].sum()/5\r\n",
    "ratio_acc = round(1/(accidents_year/wa_pedestrian_year)-1)\r\n",
    "ratio_att = round(1/(shark_attacks_year/wa_ocean_year)-1)\r\n",
    "\r\n",
    "print(f\"The ratio of a person getting hit by a car each year is 1 in {ratio_acc:,.0f}\")\r\n",
    "print(f\"The ratio of a person getting attacked by a shark each year is 1 in {ratio_att:,.0f}\")"
   ],
   "outputs": [
    {
     "output_type": "stream",
     "name": "stdout",
     "text": [
      "The ratio of a person getting hit by a car each year is 1 in 1,961,044\n",
      "The ratio of a person getting attacked by a shark each year is 1 in 272,499\n"
     ]
    }
   ],
   "metadata": {}
  }
 ],
 "metadata": {
  "orig_nbformat": 4,
  "language_info": {
   "name": "python",
   "version": "3.6.10",
   "mimetype": "text/x-python",
   "codemirror_mode": {
    "name": "ipython",
    "version": 3
   },
   "pygments_lexer": "ipython3",
   "nbconvert_exporter": "python",
   "file_extension": ".py"
  },
  "kernelspec": {
   "name": "python3",
   "display_name": "Python 3.6.10 64-bit ('PythonData': conda)"
  },
  "interpreter": {
   "hash": "44819769b05112f27f93e424f8d134f22b8c83bbe7dc0548c3d5a98b45ca673a"
  }
 },
 "nbformat": 4,
 "nbformat_minor": 2
}