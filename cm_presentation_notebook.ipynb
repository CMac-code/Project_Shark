{
 "cells": [
  {
   "cell_type": "markdown",
   "metadata": {},
   "source": [
    "# Project Shark \n",
    "\n",
    "## Source Data\n",
    "\n",
    "The data was sourced from websites and mostly downloaded as excel files, refer Resource Folder for the website_source.txt file.\n",
    "\n",
    "## Clean Data\n",
    "\n",
    "Initially the data was cleaned in the excel spreadsheet, removing unnecessary columns & filtering as initially required.\n",
    "\n",
    "Further adjustments were made, refer below examples."
   ]
  },
  {
   "cell_type": "code",
   "execution_count": null,
   "metadata": {},
   "outputs": [],
   "source": [
    "# import file\n",
    "Shark2 = pd.read_excel(\"Resource/Shark Data WA 2016-2021 (filtered).xls\")"
   ]
  },
  {
   "cell_type": "code",
   "execution_count": null,
   "metadata": {},
   "outputs": [],
   "source": [
    "# Removing 2021 data as it wasn't a full year so the results wouldn't have been complete\n",
    "Rem2021 = Shark2[Shark2['Year'] == 2021.0].index\n",
    "Shark2.drop(Rem2021, inplace=True)"
   ]
  },
  {
   "cell_type": "code",
   "execution_count": null,
   "metadata": {},
   "outputs": [],
   "source": [
    "# Remove the decimal place from the Year data\n",
    "Shark2['Year'] = Shark2['Year'].astype(str).replace('\\.0', '', regex=True)\n",
    "Shark2.dropna(subset = ['Year']).head(2)"
   ]
  },
  {
   "cell_type": "markdown",
   "metadata": {},
   "source": [
    "## Arrange & Plot Data\n",
    "\n",
    "Examples as shown below"
   ]
  },
  {
   "cell_type": "code",
   "execution_count": null,
   "metadata": {},
   "outputs": [],
   "source": [
    "# Compare what time of day the shark attacks occur\n",
    "Time_of_day = Shark2.groupby('Time')['Case Number'].count()\n",
    "\n",
    "fig, ax = plt.subplots()\n",
    "Time_of_day_chart = Time_of_day.plot(kind = \"bar\", color = \"lightsteelblue\", alpha = 0.5)\n",
    "#ax.set_xticklabels({''})\n",
    "plt.title(\"Shark Attack by Time of Day\")\n",
    "plt.xlabel(\"Time of Day\")\n",
    "plt.ylabel(\"Count of Shark Attacks\")\n",
    "plt.savefig(\"Shark Attack by Time.png\", bbox_inches = \"tight\")\n",
    "plt.show()"
   ]
  },
  {
   "cell_type": "code",
   "execution_count": null,
   "metadata": {},
   "outputs": [],
   "source": [
    "# Check what kind of attacks were reported\n",
    "Shark2['Activity'].value_counts()"
   ]
  },
  {
   "cell_type": "code",
   "execution_count": null,
   "metadata": {},
   "outputs": [],
   "source": [
    "# Combine the similar activities \n",
    "Shark2['Activity'].replace([\"Surfing\", \"Body Surfing\", \"Body boarding\", \"Kite surfing\", \"Wind surfing\", \"Windsurfing\", \"Body Boarding\", \"Surf skiing \"], \n",
    "                        \"Surfing Varieties\", inplace=True)\n",
    "Shark2['Activity'].replace([\"Snorkeling\", \"Diving\", \"Free diving\", \"Scuba diving\", \"Scuba Diving\"], \"Snorkeling / Diving\", inplace=True)\n",
    "Shark2['Activity'].replace([\"Fishing\", \"Kayak fishing for sharks\", \"Surf fishing\", \"Kayaking / Fishing\", \"Fishing / Filming sharks feeding on whale carcass\", \"Fishing \"], \"Fishing\", inplace=True)\n",
    "Shark2['Activity'].replace([\"Walking\"], \"Wading\", inplace=True)\n",
    "Shark2['Activity'].replace([\"Feeding sharks\", \"Paddle boarding\", \"Attempting to lasso a shark\", \"Kakaying\", \"Kayaking\", \"Abalone diving\", \n",
    "                    \"Swimming after being swept off rocks\", \"Sightseeing\", \"Foil-boarding\"], \"Misc\", inplace=True)\n",
    "Shark2['Activity'].value_counts()"
   ]
  },
  {
   "cell_type": "code",
   "execution_count": null,
   "metadata": {},
   "outputs": [],
   "source": [
    "# Plot the Activities and add an image for fun\n",
    "fig, ax = plt.subplots()\n",
    "img = plt.imread(\"swim3.jpg\")\n",
    "plt.figimage(img, 9, 20, zorder=5, alpha=0.2)\n",
    "#ax.imshow(img, extent=[-5, 80, -5, 30])\n",
    "\n",
    "Activity_Type = Activity_Type.plot(kind = \"barh\", color = \"lightsteelblue\", alpha = 1)\n",
    "plt.title(\"Activities to Avoid\")\n",
    "plt.ylabel(\"Activity\")\n",
    "plt.xlabel(\"Count of Shark Attacks\")\n",
    "plt.savefig(\"Activities to Avoid.png\", bbox_inches = \"tight\")\n",
    "plt.show()"
   ]
  }
 ],
 "metadata": {
  "kernelspec": {
   "display_name": "Python 3.6.13 64-bit ('Class': conda)",
   "metadata": {
    "interpreter": {
     "hash": "f8dc4aaf8a9462e19a2a5b19dbec340601ec663879adf0fd68cdf19f2542efb8"
    }
   },
   "name": "python3"
  },
  "language_info": {
   "name": "python",
   "nbconvert_exporter": "python",
   "version": "3.6.13"
  },
  "orig_nbformat": 2
 },
 "nbformat": 4,
 "nbformat_minor": 2
}