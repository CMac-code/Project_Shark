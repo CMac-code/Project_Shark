{
 "cells": [
  {
   "cell_type": "code",
   "execution_count": 2,
   "source": [
    "# Dependencies \r\n",
    "import matplotlib.pyplot as plt\r\n",
    "import pandas as pd\r\n",
    "import numpy as np\r\n",
    "import scipy.stats as st"
   ],
   "outputs": [],
   "metadata": {}
  },
  {
   "cell_type": "code",
   "execution_count": 3,
   "source": [
    "# read in data file\r\n",
    "shark_df = pd.read_csv(\"shark_geo.csv\")"
   ],
   "outputs": [],
   "metadata": {}
  },
  {
   "cell_type": "code",
   "execution_count": 4,
   "source": [
    "# remove 2021 data\r\n",
    "shark_df = shark_df.loc[shark_df['Year']<=2020]"
   ],
   "outputs": [],
   "metadata": {}
  },
  {
   "cell_type": "code",
   "execution_count": 5,
   "source": [
    "shark_df.info()\r\n"
   ],
   "outputs": [
    {
     "output_type": "stream",
     "name": "stdout",
     "text": [
      "<class 'pandas.core.frame.DataFrame'>\n",
      "Int64Index: 145 entries, 16 to 160\n",
      "Data columns (total 23 columns):\n",
      " #   Column          Non-Null Count  Dtype  \n",
      "---  ------          --------------  -----  \n",
      " 0   Unnamed: 0      145 non-null    int64  \n",
      " 1   Case Number     145 non-null    object \n",
      " 2   Date            145 non-null    object \n",
      " 3   Year            145 non-null    float64\n",
      " 4   Type            145 non-null    object \n",
      " 5   Country         145 non-null    object \n",
      " 6   Area            145 non-null    object \n",
      " 7   Location        145 non-null    object \n",
      " 8   Activity        140 non-null    object \n",
      " 9   Sex             140 non-null    object \n",
      " 10  Age             103 non-null    object \n",
      " 11  Injury          144 non-null    object \n",
      " 12  Fatal (Y/N)     138 non-null    object \n",
      " 13  Time            120 non-null    object \n",
      " 14  Species         94 non-null     object \n",
      " 15  pdf             145 non-null    object \n",
      " 16  href formula    145 non-null    object \n",
      " 17  href            145 non-null    object \n",
      " 18  Case Number.1   145 non-null    object \n",
      " 19  Case Number.2   145 non-null    object \n",
      " 20  original order  145 non-null    int64  \n",
      " 21  lat             145 non-null    float64\n",
      " 22  lng             145 non-null    float64\n",
      "dtypes: float64(3), int64(2), object(18)\n",
      "memory usage: 27.2+ KB\n"
     ]
    }
   ],
   "metadata": {}
  },
  {
   "cell_type": "code",
   "execution_count": 28,
   "source": [
    "# group attacks by year\r\n",
    "attack_by_year_total = shark_df.groupby('Year')['Case Number'].count()\r\n",
    "\r\n",
    "# split into WA and non-WA\r\n",
    "attack_by_year_WA = shark_df.loc[shark_df['Area']=='Western Australia'].groupby('Year')['Case Number'].count()\r\n",
    "attack_by_year_other = shark_df.loc[shark_df['Area']!='Western Australia'].groupby('Year')['Case Number'].count()\r\n",
    "\r\n",
    "attack_dictionary = {\"WA\":attack_by_year_WA, \"Other\":attack_by_year_other, \"Total\":attack_by_year_total}\r\n",
    "\r\n",
    "attack_by_year = pd.concat(attack_dictionary, axis = 1)\r\n",
    "attack_by_year.index = attack_by_year.index.astype(int)\r\n",
    "\r\n",
    "attack_by_year"
   ],
   "outputs": [
    {
     "output_type": "execute_result",
     "data": {
      "text/plain": [
       "      WA  Other  Total\n",
       "2016   8     24     32\n",
       "2017   8     15     23\n",
       "2018  13     25     38\n",
       "2019   3     19     22\n",
       "2020   8     22     30"
      ],
      "text/html": [
       "<div>\n",
       "<style scoped>\n",
       "    .dataframe tbody tr th:only-of-type {\n",
       "        vertical-align: middle;\n",
       "    }\n",
       "\n",
       "    .dataframe tbody tr th {\n",
       "        vertical-align: top;\n",
       "    }\n",
       "\n",
       "    .dataframe thead th {\n",
       "        text-align: right;\n",
       "    }\n",
       "</style>\n",
       "<table border=\"1\" class=\"dataframe\">\n",
       "  <thead>\n",
       "    <tr style=\"text-align: right;\">\n",
       "      <th></th>\n",
       "      <th>WA</th>\n",
       "      <th>Other</th>\n",
       "      <th>Total</th>\n",
       "    </tr>\n",
       "  </thead>\n",
       "  <tbody>\n",
       "    <tr>\n",
       "      <th>2016</th>\n",
       "      <td>8</td>\n",
       "      <td>24</td>\n",
       "      <td>32</td>\n",
       "    </tr>\n",
       "    <tr>\n",
       "      <th>2017</th>\n",
       "      <td>8</td>\n",
       "      <td>15</td>\n",
       "      <td>23</td>\n",
       "    </tr>\n",
       "    <tr>\n",
       "      <th>2018</th>\n",
       "      <td>13</td>\n",
       "      <td>25</td>\n",
       "      <td>38</td>\n",
       "    </tr>\n",
       "    <tr>\n",
       "      <th>2019</th>\n",
       "      <td>3</td>\n",
       "      <td>19</td>\n",
       "      <td>22</td>\n",
       "    </tr>\n",
       "    <tr>\n",
       "      <th>2020</th>\n",
       "      <td>8</td>\n",
       "      <td>22</td>\n",
       "      <td>30</td>\n",
       "    </tr>\n",
       "  </tbody>\n",
       "</table>\n",
       "</div>"
      ]
     },
     "metadata": {},
     "execution_count": 28
    }
   ],
   "metadata": {}
  },
  {
   "cell_type": "code",
   "execution_count": null,
   "source": [],
   "outputs": [],
   "metadata": {}
  },
  {
   "cell_type": "code",
   "execution_count": 109,
   "source": [
    "# create bar chart\r\n",
    "fig, ax = plt.subplots()\r\n",
    "\r\n",
    "ax.set_title(\"Shark attacks by year\", size = 16)\r\n",
    "\r\n",
    "p1 = ax.bar(attack_by_year.index, attack_by_year['WA'], label = 'WA', color = \"slategray\", width = 0.7 )\r\n",
    "p2 = ax.bar(attack_by_year.index, attack_by_year['Other'], bottom = attack_by_year['WA'], label = 'Other States', color = \"lightsteelblue\", width = 0.7)\r\n",
    "\r\n",
    "ax.legend()\r\n",
    "\r\n",
    "ax.yaxis.set_visible(False)\r\n",
    "ax.set_ylim(0,attack_by_year['Total'].max() + 6)\r\n",
    "\r\n",
    "# add totals labels\r\n",
    "y_offset = 2\r\n",
    "for i, total in enumerate(attack_by_year['Total']):\r\n",
    "  ax.text(attack_by_year['Total'].index[i], total + y_offset, total, ha='center',\r\n",
    "           size = 14)\r\n",
    "\r\n",
    "# Let's put the annotations inside the bars themselves by using a\r\n",
    "# negative offset.\r\n",
    "y_offset = -2\r\n",
    "# For each patch (basically each rectangle within the bar), add a label.\r\n",
    "for bar in ax.patches:\r\n",
    "  ax.text(\r\n",
    "      # Put the text in the middle of each bar. get_x returns the start\r\n",
    "      # so we add half the width to get to the middle.\r\n",
    "      bar.get_x() + bar.get_width() / 2,\r\n",
    "      # Vertically, add the height of the bar to the start of the bar,\r\n",
    "      # along with the offset.\r\n",
    "      bar.get_height() + bar.get_y() + y_offset,\r\n",
    "      # This is actual value we'll show.\r\n",
    "      round(bar.get_height()),\r\n",
    "      # Center the labels and style them a bit.\r\n",
    "      ha='center',\r\n",
    "      color='w',\r\n",
    "      size=12\r\n",
    "  )\r\n",
    "\r\n",
    "\r\n"
   ],
   "outputs": [
    {
     "output_type": "display_data",
     "data": {
      "text/plain": [
       "<Figure size 432x288 with 1 Axes>"
      ],
      "image/png": "[encoded data removed]"
     },
     "metadata": {
      "needs_background": "light"
     }
    }
   ],
   "metadata": {}
  }
 ],
 "metadata": {
  "orig_nbformat": 4,
  "language_info": {
   "name": "python",
   "version": "3.6.10",
   "mimetype": "text/x-python",
   "codemirror_mode": {
    "name": "ipython",
    "version": 3
   },
   "pygments_lexer": "ipython3",
   "nbconvert_exporter": "python",
   "file_extension": ".py"
  },
  "kernelspec": {
   "name": "python3",
   "display_name": "Python 3.6.10 64-bit ('PythonData': conda)"
  },
  "interpreter": {
   "hash": "2cb9b7d5b68f4bfebe37bd14371b74a26c7634c91bad2bd7203be20ef753368a"
  }
 },
 "nbformat": 4,
 "nbformat_minor": 2
}