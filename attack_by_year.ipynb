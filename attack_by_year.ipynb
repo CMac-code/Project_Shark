{
 "cells": [
  {
   "cell_type": "code",
   "execution_count": 12,
   "source": [
    "# Dependencies \r\n",
    "import matplotlib.pyplot as plt\r\n",
    "import pandas as pd\r\n",
    "import numpy as np\r\n",
    "import scipy.stats as st"
   ],
   "outputs": [],
   "metadata": {}
  },
  {
   "cell_type": "code",
   "execution_count": 13,
   "source": [
    "# read in data file\r\n",
    "shark_df = pd.read_csv(\"shark_geo.csv\")"
   ],
   "outputs": [],
   "metadata": {}
  },
  {
   "cell_type": "code",
   "execution_count": 17,
   "source": [
    "# remove 2021 data\r\n",
    "shark_df = shark_df.loc[shark_df['Year']<=2020]"
   ],
   "outputs": [],
   "metadata": {}
  },
  {
   "cell_type": "code",
   "execution_count": 18,
   "source": [
    "shark_df.info()\r\n"
   ],
   "outputs": [
    {
     "output_type": "stream",
     "name": "stdout",
     "text": [
      "<class 'pandas.core.frame.DataFrame'>\n",
      "Int64Index: 145 entries, 16 to 160\n",
      "Data columns (total 23 columns):\n",
      " #   Column          Non-Null Count  Dtype  \n",
      "---  ------          --------------  -----  \n",
      " 0   Unnamed: 0      145 non-null    int64  \n",
      " 1   Case Number     145 non-null    object \n",
      " 2   Date            145 non-null    object \n",
      " 3   Year            145 non-null    float64\n",
      " 4   Type            145 non-null    object \n",
      " 5   Country         145 non-null    object \n",
      " 6   Area            145 non-null    object \n",
      " 7   Location        145 non-null    object \n",
      " 8   Activity        140 non-null    object \n",
      " 9   Sex             140 non-null    object \n",
      " 10  Age             103 non-null    object \n",
      " 11  Injury          144 non-null    object \n",
      " 12  Fatal (Y/N)     138 non-null    object \n",
      " 13  Time            120 non-null    object \n",
      " 14  Species         94 non-null     object \n",
      " 15  pdf             145 non-null    object \n",
      " 16  href formula    145 non-null    object \n",
      " 17  href            145 non-null    object \n",
      " 18  Case Number.1   145 non-null    object \n",
      " 19  Case Number.2   145 non-null    object \n",
      " 20  original order  145 non-null    int64  \n",
      " 21  lat             145 non-null    float64\n",
      " 22  lng             145 non-null    float64\n",
      "dtypes: float64(3), int64(2), object(18)\n",
      "memory usage: 27.2+ KB\n"
     ]
    }
   ],
   "metadata": {}
  },
  {
   "cell_type": "code",
   "execution_count": 19,
   "source": [
    "# group attacks by year\r\n",
    "attack_by_year = shark_df.groupby('Year')['Case Number'].count()\r\n",
    "attack_by_year"
   ],
   "outputs": [
    {
     "output_type": "execute_result",
     "data": {
      "text/plain": [
       "Year\n",
       "2016.0    32\n",
       "2017.0    23\n",
       "2018.0    38\n",
       "2019.0    22\n",
       "2020.0    30\n",
       "Name: Case Number, dtype: int64"
      ]
     },
     "metadata": {},
     "execution_count": 19
    }
   ],
   "metadata": {}
  },
  {
   "cell_type": "code",
   "execution_count": 20,
   "source": [
    "# create bar chart\r\n",
    "fig, ax = plt.subplots()\r\n",
    "\r\n",
    "attack_by_year_chart = attack_by_year.plot(kind = \"bar\", color = \"blue\", alpha = 0.75)"
   ],
   "outputs": [
    {
     "output_type": "display_data",
     "data": {
      "text/plain": [
       "<Figure size 432x288 with 1 Axes>"
      ],
      "image/png": "[encoded data removed]"
     },
     "metadata": {
      "needs_background": "light"
     }
    }
   ],
   "metadata": {}
  }
 ],
 "metadata": {
  "orig_nbformat": 4,
  "language_info": {
   "name": "python",
   "version": "3.6.10",
   "mimetype": "text/x-python",
   "codemirror_mode": {
    "name": "ipython",
    "version": 3
   },
   "pygments_lexer": "ipython3",
   "nbconvert_exporter": "python",
   "file_extension": ".py"
  },
  "kernelspec": {
   "name": "python3",
   "display_name": "Python 3.6.10 64-bit ('PythonData': conda)"
  },
  "interpreter": {
   "hash": "2cb9b7d5b68f4bfebe37bd14371b74a26c7634c91bad2bd7203be20ef753368a"
  }
 },
 "nbformat": 4,
 "nbformat_minor": 2
}