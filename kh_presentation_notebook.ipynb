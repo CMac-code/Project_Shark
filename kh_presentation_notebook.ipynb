{
 "cells": [
  {
   "cell_type": "markdown",
   "source": [
    "# Project Shark\r\n"
   ],
   "metadata": {}
  },
  {
   "cell_type": "markdown",
   "source": [
    "## Source Data\r\n",
    "\r\n",
    "The main sources of data required for this project were available from the internet as downloadable excel files.\r\n"
   ],
   "metadata": {}
  },
  {
   "cell_type": "markdown",
   "source": [
    "## Clean Data\r\n",
    "\r\n",
    "Some data cleaning took place in Excel eg delete unwanted columns, filter rows by date or location.\r\n",
    "\r\n",
    "Further data cleaning was undertaken in Python, examples below"
   ],
   "metadata": {}
  },
  {
   "cell_type": "code",
   "execution_count": null,
   "source": [
    "# import filtered shark csv file\r\n",
    "filename = \"Resource/Shark Data WA 2016-2021 (filtered).xls\"\r\n",
    "shark_data = pd.read_excel(filename)"
   ],
   "outputs": [],
   "metadata": {}
  },
  {
   "cell_type": "code",
   "execution_count": null,
   "source": [
    "# clean up misspelled State\r\n",
    "shark_data['Area'] = shark_data['Area'].replace({'Westerm Australia':'Western Australia'})\r\n",
    "shark_data['Area'] = shark_data['Area'].replace({'New South Wales ':'New South Wales'})"
   ],
   "outputs": [],
   "metadata": {}
  },
  {
   "cell_type": "code",
   "execution_count": null,
   "source": [
    "# remove 2021 data\r\n",
    "shark_df = shark_df.loc[shark_df['Year']<=2020]\r\n",
    "# remove unwanted columns\r\n",
    "shark_df = shark_df.drop([ 'pdf', 'href formula','href', 'Case Number.1', 'Case Number.2', 'original order'], axis = 1)"
   ],
   "outputs": [],
   "metadata": {}
  },
  {
   "cell_type": "code",
   "execution_count": null,
   "source": [
    "# only use data for WA\r\n",
    "shark_wa = shark_df.loc[shark_df['Area']==\"Western Australia\"]\r\n"
   ],
   "outputs": [],
   "metadata": {}
  },
  {
   "cell_type": "code",
   "execution_count": null,
   "source": [],
   "outputs": [],
   "metadata": {}
  },
  {
   "cell_type": "markdown",
   "source": [
    "# Manipulate Data\r\n",
    "\r\n",
    "Some examples are shown below"
   ],
   "metadata": {}
  },
  {
   "cell_type": "code",
   "execution_count": null,
   "source": [
    "# Split into regions based on latitude\r\n",
    "shark_wa_region[\"region\"] = shark_wa_region.lat.apply(lambda x: \"Northern\" if x>-31.5471024260016 else (\"Metro\" if x> -32.6343558722623 else \"Southern\"))"
   ],
   "outputs": [],
   "metadata": {}
  },
  {
   "cell_type": "code",
   "execution_count": null,
   "source": [
    "# match location to lat and long coordinates, using Google Maps API\r\n",
    "\r\n",
    "# create columns to hold data\r\n",
    "shark_df['lat']=\"\"\r\n",
    "shark_df['lng']=\"\"\r\n",
    "\r\n",
    "# Build URL using the Google Maps API\r\n",
    "base_url = \"https://maps.googleapis.com/maps/api/place/findplacefromtext/json\"\r\n",
    "\r\n",
    "params = {\"key\": g_key, \"inputtype\": \"textquery\", \"fields\":\"geometry\"}\r\n",
    "\r\n",
    "for index, row in shark_df.iterrows():\r\n",
    "    # get extra parameters\r\n",
    "    params['input'] = (f'{row[\"Location\"]}, {row[\"Area\"]}')\r\n",
    "    \r\n",
    "    # Run request\r\n",
    "    print(f\"Retrieving Results for Index {index}: {row['Location']}.\")\r\n",
    "    response = requests.get(base_url, params=params)\r\n",
    "    results = response.json()\r\n",
    "\r\n",
    "    # Extract lat/lng\r\n",
    "    try:\r\n",
    "        shark_df.loc[index, 'lat'] = results['candidates'][0]['geometry']['location']['lat']\r\n",
    "        shark_df.loc[index, 'lng'] = results['candidates'][0]['geometry']['location']['lng'] \r\n",
    "        \r\n",
    "    except (KeyError, IndexError):\r\n",
    "        print(\"Missing field/result... skipping.\")\r\n"
   ],
   "outputs": [],
   "metadata": {}
  },
  {
   "cell_type": "code",
   "execution_count": null,
   "source": [
    "# put a weighting on fatality, 6 for fatal, 1 for not fatal\r\n",
    "shark_df['fatal_weight']=shark_df['Fatal (Y/N)'].apply(lambda x: 6 if x == 'Y' else 1)"
   ],
   "outputs": [],
   "metadata": {}
  },
  {
   "cell_type": "code",
   "execution_count": null,
   "source": [
    "# group data into categories, in this example, year and region\r\n",
    "result = shark_wa_region.groupby(['Year','region'])['Case Number'].count()"
   ],
   "outputs": [],
   "metadata": {}
  },
  {
   "cell_type": "markdown",
   "source": [
    "# Generate Output\r\n",
    "\r\n",
    "examples shown below"
   ],
   "metadata": {}
  },
  {
   "cell_type": "code",
   "execution_count": null,
   "source": [
    "# bar chart by year, grouped by region\r\n",
    "result.unstack().plot(kind='bar')\r\n",
    "plt.title(\"Shark attacks by region, WA\")\r\n",
    "plt.xlabel(\"\")\r\n",
    "plt.xticks(rotation = 0)"
   ],
   "outputs": [],
   "metadata": {}
  },
  {
   "cell_type": "code",
   "execution_count": 18,
   "source": [
    "# Create a heat map with gmaps, showing the location of shark attacks, weighted to fatality\r\n",
    "locations = shark_df[['lat', 'lng']]\r\n",
    "\r\n",
    "# use fatality as the weight\r\n",
    "map_weight = shark_df['fatal_weight']\r\n",
    "\r\n",
    "# set figure layout\r\n",
    "figure_layout = {\r\n",
    "    'width': '800px',\r\n",
    "    'height': '600px',\r\n",
    "    'border': '1px solid black',\r\n",
    "    'padding': '1px'\r\n",
    "}\r\n",
    "\r\n",
    "# Plot Heatmap\r\n",
    "fig = gmaps.figure(map_type = 'HYBRID', layout=figure_layout)\r\n",
    "\r\n",
    "# Create heat layer\r\n",
    "heat_layer = gmaps.heatmap_layer(locations, \r\n",
    "                                weights=map_weight,\r\n",
    "                                dissipating=False, \r\n",
    "                                max_intensity=10,\r\n",
    "                                point_radius=1, \r\n",
    "                                opacity = 0.4)\r\n",
    "                                \r\n",
    "\r\n",
    "# Add layer\r\n",
    "fig.add_layer(heat_layer)\r\n",
    "\r\n",
    "# Display figure\r\n",
    "fig"
   ],
   "outputs": [
    {
     "output_type": "display_data",
     "data": {
      "text/plain": [
       "Figure(layout=FigureLayout(border='1px solid black', height='600px', padding='1px', width='800px'))"
      ],
      "application/vnd.jupyter.widget-view+json": {
       "version_major": 2,
       "version_minor": 0,
       "model_id": "b2ac1202634541729b9fbc728de04b30"
      }
     },
     "metadata": {}
    }
   ],
   "metadata": {}
  },
  {
   "cell_type": "code",
   "execution_count": null,
   "source": [
    "# create stacked bar chart with labels\r\n",
    "fig, ax = plt.subplots()\r\n",
    "\r\n",
    "ax.set_title(\"Shark attacks by year\", size = 16)\r\n",
    "\r\n",
    "p1 = ax.bar(attack_by_year.index, attack_by_year['WA'], label = 'WA', color = \"slategray\", width = 0.7 )\r\n",
    "p2 = ax.bar(attack_by_year.index, attack_by_year['Other'], bottom = attack_by_year['WA'], label = 'Other States', color = \"lightsteelblue\", width = 0.7)\r\n",
    "\r\n",
    "ax.legend()\r\n",
    "\r\n",
    "ax.yaxis.set_visible(False)\r\n",
    "ax.set_ylim(0,attack_by_year['Total'].max() + 6)\r\n",
    "\r\n",
    "# add totals labels\r\n",
    "y_offset = 2\r\n",
    "for i, total in enumerate(attack_by_year['Total']):\r\n",
    "    ax.text(attack_by_year['Total'].index[i], total + y_offset, total, ha='center',\r\n",
    "           size = 14)\r\n",
    "\r\n",
    "# Let's put the annotations inside the bars themselves by using a\r\n",
    "# negative offset.\r\n",
    "y_offset = -2\r\n",
    "# For each patch (basically each rectangle within the bar), add a label.\r\n",
    "for bar in ax.patches:\r\n",
    "  ax.text(\r\n",
    "      # Put the text in the middle of each bar. get_x returns the start\r\n",
    "      # so we add half the width to get to the middle.\r\n",
    "      bar.get_x() + bar.get_width() / 2,\r\n",
    "      # Vertically, add the height of the bar to the start of the bar,\r\n",
    "      # along with the offset.\r\n",
    "      bar.get_height() + bar.get_y() + y_offset,\r\n",
    "      # This is actual value we'll show.\r\n",
    "      round(bar.get_height()),\r\n",
    "      # Center the labels and style them a bit.\r\n",
    "      ha='center',\r\n",
    "      color='w',\r\n",
    "      size=12\r\n",
    "  )\r\n",
    "\r\n",
    "plt.savefig('Output/plot_attack_by_year.png', dpi=300, bbox_inches='tight')"
   ],
   "outputs": [],
   "metadata": {}
  },
  {
   "cell_type": "code",
   "execution_count": null,
   "source": [
    "# waffle chart\r\n",
    "\r\n",
    "from pywaffle import Waffle\r\n",
    "import matplotlib.pyplot as plt\r\n",
    "incidence = {'pedestrians hit by cars':380,'shark attacks':3}\r\n",
    "\r\n",
    "fig = plt.figure(FigureClass=Waffle, \r\n",
    "                    figsize=(12,5), \r\n",
    "                    values=incidence, \r\n",
    "                    icons=['car','swimmer'],\r\n",
    "                    icon_legend = True,\r\n",
    "                    legend={'bbox_to_anchor':(1.55, 0.15), 'fontsize': 10, 'frameon': True, 'framealpha':1.0},\r\n",
    "                    rows=20)\r\n",
    "plt.title(\"Number of pedestrians involved in car accidents, compared to shark attacks \\n Perth metro region, 2016 - 2020\")"
   ],
   "outputs": [],
   "metadata": {}
  }
 ],
 "metadata": {
  "orig_nbformat": 4,
  "language_info": {
   "name": "python",
   "version": "3.6.10"
  },
  "kernelspec": {
   "name": "python3",
   "display_name": "Python 3.6.10 64-bit ('PythonData': conda)"
  },
  "interpreter": {
   "hash": "2cb9b7d5b68f4bfebe37bd14371b74a26c7634c91bad2bd7203be20ef753368a"
  }
 },
 "nbformat": 4,
 "nbformat_minor": 2
}