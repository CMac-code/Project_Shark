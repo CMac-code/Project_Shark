{
    "cells": [
        {
            "cell_type": "code",
            "execution_count": 1,
            "source": [
                "# Dependencies\n",
                "import pandas as pd\n",
                "import numpy as np\n",
                "import scipy.stats as st\n",
                "import matplotlib.pyplot as plt\n",
                "import requests\n",
                "import json\n",
                "import gmaps"
            ],
            "outputs": [],
            "metadata": {}
        },
        {
            "cell_type": "code",
            "execution_count": 4,
            "source": [
                "base_url=\"http://api.fish.wa.gov.au/webapi/v1/RawData\"\n",
                "\n",
                "response=requests.get(base_url).json()\n"
            ],
            "outputs": [],
            "metadata": {}
        },
        {
            "cell_type": "code",
            "execution_count": 18,
            "metadata": {},
            "outputs": [],
            "source": [
                "data_id=[]\n",
                "sighting_date=[]\n",
                "species=[]\n",
                "lngs=[]\n",
                "lats=[]\n",
                "location=[]\n",
                "\n",
                "\n",
                "for x in range(len(response)):\n",
                "    data_id.append(response[x][\"RawDataId\"])\n",
                "    sighting_date.append(response[x][\"SightingDateTime\"])\n",
                "    species.append(response[x][\"SightingSpeciesValue\"])\n",
                "    lngs.append(response[x][\"LocationX\"])\n",
                "    lats.append(response[x][\"LocationY\"])\n",
                "    location.append(response[x][\"LocationValue\"])"
            ]
        },
        {
            "cell_type": "code",
            "execution_count": 19,
            "metadata": {},
            "outputs": [
                {
                    "output_type": "execute_result",
                    "data": {
                        "text/plain": [
                            "       Data ID        Sighting Date        Species  Longitude  Latitude  \\\n",
                            "0        63732  2021-07-20T16:47:53    unknown sp.  122.23100 -17.97390   \n",
                            "1        63730  2021-07-19T13:34:57    unknown sp.  115.52200 -32.02490   \n",
                            "2        63731  2021-07-19T12:30:37          white  115.50800 -32.01740   \n",
                            "3        63729  2021-07-19T11:54:35           bull  115.73500 -32.05530   \n",
                            "4        63727  2021-07-18T12:30:42  whale carcass  113.79000 -23.09480   \n",
                            "...        ...                  ...            ...        ...       ...   \n",
                            "17302    54674  2014-10-14T03:40:00          white  115.04110 -33.54306   \n",
                            "17303    54675  2014-10-14T02:08:00    unknown sp.  115.02817 -33.63339   \n",
                            "17304    54676  2014-10-13T03:55:00          white  115.10530 -33.60111   \n",
                            "17305    46307  2014-10-13T02:28:00          tiger  115.64283 -32.14411   \n",
                            "17306    54677  2014-10-12T02:00:00    unknown sp.  115.08480 -33.56575   \n",
                            "\n",
                            "                                  Location  \n",
                            "0                                   Broome  \n",
                            "1            Salmon Point, Rottnest Island  \n",
                            "2              Salmon Bay, Rottnest Island  \n",
                            "3                  Swan River, Perth Metro  \n",
                            "4      Mauds Landing Beach, near Coral Bay  \n",
                            "...                                    ...  \n",
                            "17302         Bunker Bay, near Dunsborough  \n",
                            "17303           Yallingup Beach, Yallingup  \n",
                            "17304   Dunsborough Boat Ramp, Dunsborough  \n",
                            "17305            Garden Island (north end)  \n",
                            "17306      Point Picquet, near Dunsborough  \n",
                            "\n",
                            "[17307 rows x 6 columns]"
                        ],
                        "text/html": "<div>\n<style scoped>\n    .dataframe tbody tr th:only-of-type {\n        vertical-align: middle;\n    }\n\n    .dataframe tbody tr th {\n        vertical-align: top;\n    }\n\n    .dataframe thead th {\n        text-align: right;\n    }\n</style>\n<table border=\"1\" class=\"dataframe\">\n  <thead>\n    <tr style=\"text-align: right;\">\n      <th></th>\n      <th>Data ID</th>\n      <th>Sighting Date</th>\n      <th>Species</th>\n      <th>Longitude</th>\n      <th>Latitude</th>\n      <th>Location</th>\n    </tr>\n  </thead>\n  <tbody>\n    <tr>\n      <th>0</th>\n      <td>63732</td>\n      <td>2021-07-20T16:47:53</td>\n      <td>unknown sp.</td>\n      <td>122.23100</td>\n      <td>-17.97390</td>\n      <td>Broome</td>\n    </tr>\n    <tr>\n      <th>1</th>\n      <td>63730</td>\n      <td>2021-07-19T13:34:57</td>\n      <td>unknown sp.</td>\n      <td>115.52200</td>\n      <td>-32.02490</td>\n      <td>Salmon Point, Rottnest Island</td>\n    </tr>\n    <tr>\n      <th>2</th>\n      <td>63731</td>\n      <td>2021-07-19T12:30:37</td>\n      <td>white</td>\n      <td>115.50800</td>\n      <td>-32.01740</td>\n      <td>Salmon Bay, Rottnest Island</td>\n    </tr>\n    <tr>\n      <th>3</th>\n      <td>63729</td>\n      <td>2021-07-19T11:54:35</td>\n      <td>bull</td>\n      <td>115.73500</td>\n      <td>-32.05530</td>\n      <td>Swan River, Perth Metro</td>\n    </tr>\n    <tr>\n      <th>4</th>\n      <td>63727</td>\n      <td>2021-07-18T12:30:42</td>\n      <td>whale carcass</td>\n      <td>113.79000</td>\n      <td>-23.09480</td>\n      <td>Mauds Landing Beach, near Coral Bay</td>\n    </tr>\n    <tr>\n      <th>...</th>\n      <td>...</td>\n      <td>...</td>\n      <td>...</td>\n      <td>...</td>\n      <td>...</td>\n      <td>...</td>\n    </tr>\n    <tr>\n      <th>17302</th>\n      <td>54674</td>\n      <td>2014-10-14T03:40:00</td>\n      <td>white</td>\n      <td>115.04110</td>\n      <td>-33.54306</td>\n      <td>Bunker Bay, near Dunsborough</td>\n    </tr>\n    <tr>\n      <th>17303</th>\n      <td>54675</td>\n      <td>2014-10-14T02:08:00</td>\n      <td>unknown sp.</td>\n      <td>115.02817</td>\n      <td>-33.63339</td>\n      <td>Yallingup Beach, Yallingup</td>\n    </tr>\n    <tr>\n      <th>17304</th>\n      <td>54676</td>\n      <td>2014-10-13T03:55:00</td>\n      <td>white</td>\n      <td>115.10530</td>\n      <td>-33.60111</td>\n      <td>Dunsborough Boat Ramp, Dunsborough</td>\n    </tr>\n    <tr>\n      <th>17305</th>\n      <td>46307</td>\n      <td>2014-10-13T02:28:00</td>\n      <td>tiger</td>\n      <td>115.64283</td>\n      <td>-32.14411</td>\n      <td>Garden Island (north end)</td>\n    </tr>\n    <tr>\n      <th>17306</th>\n      <td>54677</td>\n      <td>2014-10-12T02:00:00</td>\n      <td>unknown sp.</td>\n      <td>115.08480</td>\n      <td>-33.56575</td>\n      <td>Point Picquet, near Dunsborough</td>\n    </tr>\n  </tbody>\n</table>\n<p>17307 rows × 6 columns</p>\n</div>"
                    },
                    "metadata": {},
                    "execution_count": 19
                }
            ],
            "source": [
                "shark_sighting_df=pd.DataFrame({\n",
                "    \"Data ID\": data_id,\n",
                "    \"Sighting Date\": sighting_date,\n",
                "    \"Species\":species,\n",
                "    \"Longitude\":lngs,\n",
                "    \"Latitude\":lats,\n",
                "    \"Location\":location\n",
                "})\n",
                "\n",
                "shark_sighting_df"
            ]
        },
        {
            "cell_type": "code",
            "execution_count": null,
            "metadata": {},
            "outputs": [],
            "source": [
                "shark_sighting_df.to_csv(\"../Resource/Shark Sightings.csv\")"
            ]
        }
    ],
    "metadata": {
        "orig_nbformat": 4,
        "language_info": {
            "name": "python",
            "version": "3.6.10",
            "mimetype": "text/x-python",
            "codemirror_mode": {
                "name": "ipython",
                "version": 3
            },
            "pygments_lexer": "ipython3",
            "nbconvert_exporter": "python",
            "file_extension": ".py"
        },
        "kernelspec": {
            "name": "python3",
            "display_name": "Python 3.6.10 64-bit ('PythonData': conda)"
        },
        "interpreter": {
            "hash": "6b71ca6b95ad0b69e06a4c6e36321db20af4ee56b4afd01d46f3a8600b2487b4"
        }
    },
    "nbformat": 4,
    "nbformat_minor": 2
}