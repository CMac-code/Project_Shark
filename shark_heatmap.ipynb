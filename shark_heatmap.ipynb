{
    "cells": [
        {
            "cell_type": "code",
            "execution_count": 2,
            "source": [
                "# Dependencies\r\n",
                "import pandas as pd\r\n",
                "import numpy as np\r\n",
                "import scipy.stats as st\r\n",
                "import matplotlib.pyplot as plt\r\n",
                "import requests\r\n",
                "import json\r\n",
                "import gmaps\r\n",
                "from config import g_key\r\n",
                "gmaps.configure(api_key=g_key)"
            ],
            "outputs": [],
            "metadata": {}
        },
        {
            "cell_type": "code",
            "execution_count": 3,
            "source": [
                "shark_df = pd.read_csv(\"shark_geo.csv\")"
            ],
            "outputs": [],
            "metadata": {}
        },
        {
            "cell_type": "code",
            "execution_count": null,
            "source": [
                "# Create a map with markers\r\n",
                "marker_locations = shark_df[['lat', 'lng']]\r\n",
                "\r\n",
                "# Create a marker_layer \r\n",
                "fig = gmaps.figure()\r\n",
                "markers = gmaps.marker_layer(marker_locations)\r\n",
                "fig.add_layer(markers)\r\n",
                "fig"
            ],
            "outputs": [],
            "metadata": {}
        }
    ],
    "metadata": {
        "orig_nbformat": 4,
        "language_info": {
            "name": "python",
            "version": "3.6.10",
            "mimetype": "text/x-python",
            "codemirror_mode": {
                "name": "ipython",
                "version": 3
            },
            "pygments_lexer": "ipython3",
            "nbconvert_exporter": "python",
            "file_extension": ".py"
        },
        "kernelspec": {
            "name": "python3",
            "display_name": "Python 3.6.10 64-bit ('PythonData': conda)"
        },
        "interpreter": {
            "hash": "2cb9b7d5b68f4bfebe37bd14371b74a26c7634c91bad2bd7203be20ef753368a"
        }
    },
    "nbformat": 4,
    "nbformat_minor": 2
}