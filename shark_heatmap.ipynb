{
 "cells": [
  {
   "cell_type": "code",
   "execution_count": 38,
   "source": [
    "import gmaps\r\n",
    "import pandas as pd\r\n",
    "\r\n",
    "# Google developer API key\r\n",
    "from config import g_key\r\n",
    "\r\n",
    "# Access maps with unique API key\r\n",
    "gmaps.configure(api_key=g_key)"
   ],
   "outputs": [],
   "metadata": {}
  },
  {
   "cell_type": "code",
   "execution_count": 39,
   "source": [
    "# import file with data\r\n",
    "filename = \"shark_geo.csv\"\r\n",
    "shark_df = pd.read_csv(filename)"
   ],
   "outputs": [],
   "metadata": {}
  },
  {
   "cell_type": "code",
   "execution_count": 40,
   "source": [
    "shark_df.info()"
   ],
   "outputs": [
    {
     "output_type": "stream",
     "name": "stdout",
     "text": [
      "<class 'pandas.core.frame.DataFrame'>\n",
      "RangeIndex: 161 entries, 0 to 160\n",
      "Data columns (total 23 columns):\n",
      " #   Column          Non-Null Count  Dtype  \n",
      "---  ------          --------------  -----  \n",
      " 0   Unnamed: 0      161 non-null    int64  \n",
      " 1   Case Number     161 non-null    object \n",
      " 2   Date            161 non-null    object \n",
      " 3   Year            161 non-null    float64\n",
      " 4   Type            161 non-null    object \n",
      " 5   Country         161 non-null    object \n",
      " 6   Area            161 non-null    object \n",
      " 7   Location        161 non-null    object \n",
      " 8   Activity        155 non-null    object \n",
      " 9   Sex             156 non-null    object \n",
      " 10  Age             116 non-null    object \n",
      " 11  Injury          160 non-null    object \n",
      " 12  Fatal (Y/N)     154 non-null    object \n",
      " 13  Time            136 non-null    object \n",
      " 14  Species         104 non-null    object \n",
      " 15  pdf             161 non-null    object \n",
      " 16  href formula    161 non-null    object \n",
      " 17  href            161 non-null    object \n",
      " 18  Case Number.1   161 non-null    object \n",
      " 19  Case Number.2   161 non-null    object \n",
      " 20  original order  161 non-null    int64  \n",
      " 21  lat             161 non-null    float64\n",
      " 22  lng             161 non-null    float64\n",
      "dtypes: float64(3), int64(2), object(18)\n",
      "memory usage: 29.1+ KB\n"
     ]
    }
   ],
   "metadata": {}
  },
  {
   "cell_type": "code",
   "execution_count": 41,
   "source": [
    "# remove 2021 data\r\n",
    "shark_df = shark_df.loc[shark_df['Year']<=2020]\r\n",
    "# remove unwanted columns\r\n",
    "shark_df = shark_df.drop([ 'pdf', 'href formula','href', 'Case Number.1', 'Case Number.2', 'original order'], axis = 1)"
   ],
   "outputs": [],
   "metadata": {}
  },
  {
   "cell_type": "code",
   "execution_count": 42,
   "source": [
    "# clean up data for fatal\r\n",
    "fatal_type = shark_df['Fatal (Y/N)'].unique()\r\n",
    "print(fatal_type)\r\n",
    "fatal_count = shark_df['Fatal (Y/N)'].value_counts(dropna = False)\r\n",
    "print(fatal_count)\r\n",
    "# examine anomalies\r\n",
    "shark_df.loc[shark_df['Fatal (Y/N)']==\"F\"]\r\n",
    "# this one should be Y\r\n",
    "shark_df['Fatal (Y/N)'] = shark_df['Fatal (Y/N)'].replace({'F':'Y'})\r\n",
    "# look at nan\r\n",
    "unknown = shark_df.loc[shark_df['Fatal (Y/N)'].isna()]\r\n",
    "unknown\r\n",
    "# these all look like no injury or minor injury, so change fatal to N\r\n",
    "shark_df['Fatal (Y/N)'] = shark_df['Fatal (Y/N)'].fillna('N')\r\n",
    "# check values\r\n",
    "fatal_count = shark_df['Fatal (Y/N)'].value_counts(dropna = False)\r\n",
    "print(fatal_count)\r\n",
    "fatal_type = shark_df['Fatal (Y/N)'].unique()\r\n",
    "print(fatal_type)\r\n",
    "\r\n"
   ],
   "outputs": [
    {
     "output_type": "stream",
     "name": "stdout",
     "text": [
      "['N' 'Y' nan 'F']\n",
      "N      124\n",
      "Y       13\n",
      "NaN      7\n",
      "F        1\n",
      "Name: Fatal (Y/N), dtype: int64\n",
      "N    131\n",
      "Y     14\n",
      "Name: Fatal (Y/N), dtype: int64\n",
      "['N' 'Y']\n"
     ]
    }
   ],
   "metadata": {}
  },
  {
   "cell_type": "code",
   "execution_count": 45,
   "source": [
    "# put a weighting on fatality, 6 for fatal, 1 for not fatal\r\n",
    "shark_df['fatal_weight']=shark_df['Fatal (Y/N)'].apply(lambda x: 6 if x == 'Y' else 1)\r\n",
    "shark_df['fatal_weight']"
   ],
   "outputs": [
    {
     "output_type": "execute_result",
     "data": {
      "text/plain": [
       "16     1\n",
       "17     1\n",
       "18     6\n",
       "19     1\n",
       "20     1\n",
       "      ..\n",
       "156    1\n",
       "157    1\n",
       "158    1\n",
       "159    1\n",
       "160    1\n",
       "Name: fatal_weight, Length: 145, dtype: int64"
      ]
     },
     "metadata": {},
     "execution_count": 45
    }
   ],
   "metadata": {}
  },
  {
   "cell_type": "code",
   "execution_count": 44,
   "source": [
    "# Create a map with markers\r\n",
    "marker_locations = shark_df[['lat', 'lng']]\r\n",
    "\r\n",
    "# Create a marker_layer \r\n",
    "fig = gmaps.figure()\r\n",
    "markers = gmaps.marker_layer(marker_locations)\r\n",
    "fig.add_layer(markers)\r\n",
    "fig"
   ],
   "outputs": [
    {
     "output_type": "display_data",
     "data": {
      "text/plain": [
       "Figure(layout=FigureLayout(height='420px'))"
      ],
      "application/vnd.jupyter.widget-view+json": {
       "version_major": 2,
       "version_minor": 0,
       "model_id": "f871800bc030413ea4e8c3f307a96443"
      }
     },
     "metadata": {}
    }
   ],
   "metadata": {}
  }
 ],
 "metadata": {
  "orig_nbformat": 4,
  "language_info": {
   "name": "python",
   "version": "3.6.10",
   "mimetype": "text/x-python",
   "codemirror_mode": {
    "name": "ipython",
    "version": 3
   },
   "pygments_lexer": "ipython3",
   "nbconvert_exporter": "python",
   "file_extension": ".py"
  },
  "kernelspec": {
   "name": "python3",
   "display_name": "Python 3.6.10 64-bit ('PythonData': conda)"
  },
  "interpreter": {
   "hash": "2cb9b7d5b68f4bfebe37bd14371b74a26c7634c91bad2bd7203be20ef753368a"
  }
 },
 "nbformat": 4,
 "nbformat_minor": 2
}